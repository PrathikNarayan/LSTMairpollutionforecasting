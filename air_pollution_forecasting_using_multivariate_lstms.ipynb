{
  "cells": [
    {
      "cell_type": "markdown",
      "metadata": {
        "id": "view-in-github",
        "colab_type": "text"
      },
      "source": [
        "<a href=\"https://colab.research.google.com/github/PrathikNarayan/LSTMairpollutionforecasting/blob/main/air_pollution_forecasting_using_multivariate_lstms.ipynb\" target=\"_parent\"><img src=\"https://colab.research.google.com/assets/colab-badge.svg\" alt=\"Open In Colab\"/></a>"
      ]
    },
    {
      "cell_type": "code",
      "execution_count": null,
      "id": "2389b796",
      "metadata": {
        "execution": {
          "iopub.execute_input": "2022-05-10T08:09:16.376030Z",
          "iopub.status.busy": "2022-05-10T08:09:16.375111Z",
          "iopub.status.idle": "2022-05-10T08:09:21.588220Z",
          "shell.execute_reply": "2022-05-10T08:09:21.587463Z"
        },
        "papermill": {
          "duration": 5.270406,
          "end_time": "2022-05-10T08:09:21.590404",
          "exception": false,
          "start_time": "2022-05-10T08:09:16.319998",
          "status": "completed"
        },
        "tags": [],
        "id": "2389b796"
      },
      "outputs": [],
      "source": [
        "# Importing the required libraries\n",
        "\n",
        "import pandas as pd\n",
        "import numpy as np\n",
        "import matplotlib.pyplot as plt\n",
        "import tensorflow as tf\n",
        "import seaborn as sns"
      ]
    },
    {
      "cell_type": "markdown",
      "id": "1fcdb651",
      "metadata": {
        "papermill": {
          "duration": 0.053894,
          "end_time": "2022-05-10T08:09:21.698515",
          "exception": false,
          "start_time": "2022-05-10T08:09:21.644621",
          "status": "completed"
        },
        "tags": [],
        "id": "1fcdb651"
      },
      "source": [
        "**series_to_supervised** function :- \n",
        "\n",
        "The function takes four arguments:\n",
        "\n",
        "    data: Sequence of observations as a list or 2D NumPy array. \n",
        "    n_in: Number of lag observations as input (X). Values may be between [1..len(data)]. \n",
        "    n_out: Number of observations as output (y). Values may be between [0..len(data)-1]. \n",
        "    dropnan: Boolean whether or not to drop rows with NaN values. \n",
        "\n",
        "The function returns a single value:\n",
        "\n",
        "    return: Pandas DataFrame of series framed for supervised learning.\n",
        "\n",
        "\n"
      ]
    },
    {
      "cell_type": "code",
      "execution_count": null,
      "id": "5c094f0c",
      "metadata": {
        "execution": {
          "iopub.execute_input": "2022-05-10T08:09:21.806872Z",
          "iopub.status.busy": "2022-05-10T08:09:21.806495Z",
          "iopub.status.idle": "2022-05-10T08:09:21.814871Z",
          "shell.execute_reply": "2022-05-10T08:09:21.814196Z"
        },
        "papermill": {
          "duration": 0.064404,
          "end_time": "2022-05-10T08:09:21.816499",
          "exception": false,
          "start_time": "2022-05-10T08:09:21.752095",
          "status": "completed"
        },
        "tags": [],
        "id": "5c094f0c"
      },
      "outputs": [],
      "source": [
        "# If you run the function with simply your data, it will create a DataFrame with the default parameters of t-1.\n",
        "# as X and t as y\n",
        "\n",
        "def series_to_supervised(data, n_in = 1, n_out = 1, dropnan = True):\n",
        "    n_vars = 1 if type(data) is list else data.shape[1]\n",
        "    \n",
        "    df = pd.DataFrame(data)\n",
        "    cols, names = list(), list()\n",
        "    \n",
        "    # input sequence (t-n, ... t-1)\n",
        "    for i in range(n_in, 0, -1):\n",
        "        cols.append(df.shift(i))\n",
        "        names += [('var%d(t-%d)' % (j+1, i)) for j in range(n_vars)]\n",
        "        \n",
        "    # forecast sequence (t, t+1, ... t+n)\n",
        "    for i in range(0, n_out):\n",
        "        cols.append(df.shift(-i))\n",
        "        if i == 0:\n",
        "            names += [('var%d(t)' % (j+1)) for j in range(n_vars)]\n",
        "        else:\n",
        "            names += [('var%d(t+%d)' % (j+1, i)) for j in range(n_vars)]\n",
        "            \n",
        "    # put it all together\n",
        "    agg = pd.concat(cols, axis=1)\n",
        "    agg.columns = names\n",
        "    # drop rows with NaN values\n",
        "    if dropnan:\n",
        "        agg.dropna(inplace=True)\n",
        "        \n",
        "    return agg"
      ]
    },
    {
      "cell_type": "code",
      "execution_count": null,
      "id": "196cbb92",
      "metadata": {
        "execution": {
          "iopub.execute_input": "2022-05-10T08:09:21.924674Z",
          "iopub.status.busy": "2022-05-10T08:09:21.924122Z",
          "iopub.status.idle": "2022-05-10T08:09:22.026996Z",
          "shell.execute_reply": "2022-05-10T08:09:22.026280Z"
        },
        "papermill": {
          "duration": 0.158848,
          "end_time": "2022-05-10T08:09:22.029007",
          "exception": false,
          "start_time": "2022-05-10T08:09:21.870159",
          "status": "completed"
        },
        "tags": [],
        "id": "196cbb92"
      },
      "outputs": [],
      "source": [
        "df = pd.read_csv(\"LSTM-Multivariate_pollution.csv\")"
      ]
    },
    {
      "cell_type": "code",
      "execution_count": null,
      "id": "b6f43330",
      "metadata": {
        "execution": {
          "iopub.execute_input": "2022-05-10T08:09:22.144777Z",
          "iopub.status.busy": "2022-05-10T08:09:22.144138Z",
          "iopub.status.idle": "2022-05-10T08:09:22.174584Z",
          "shell.execute_reply": "2022-05-10T08:09:22.173840Z"
        },
        "papermill": {
          "duration": 0.09097,
          "end_time": "2022-05-10T08:09:22.176977",
          "exception": false,
          "start_time": "2022-05-10T08:09:22.086007",
          "status": "completed"
        },
        "tags": [],
        "colab": {
          "base_uri": "https://localhost:8080/",
          "height": 424
        },
        "id": "b6f43330",
        "outputId": "d1261c5a-e6d9-46e4-8d3e-41bf772f48c2"
      },
      "outputs": [
        {
          "output_type": "execute_result",
          "data": {
            "text/plain": [
              "                      date  pollution  dew  temp   press wnd_dir  wnd_spd  \\\n",
              "0      2010-01-02 00:00:00      129.0  -16  -4.0  1020.0      SE     1.79   \n",
              "1      2010-01-02 01:00:00      148.0  -15  -4.0  1020.0      SE     2.68   \n",
              "2      2010-01-02 02:00:00      159.0  -11  -5.0  1021.0      SE     3.57   \n",
              "3      2010-01-02 03:00:00      181.0   -7  -5.0  1022.0      SE     5.36   \n",
              "4      2010-01-02 04:00:00      138.0   -7  -5.0  1022.0      SE     6.25   \n",
              "...                    ...        ...  ...   ...     ...     ...      ...   \n",
              "43795  2014-12-31 19:00:00        8.0  -23  -2.0  1034.0      NW   231.97   \n",
              "43796  2014-12-31 20:00:00       10.0  -22  -3.0  1034.0      NW   237.78   \n",
              "43797  2014-12-31 21:00:00       10.0  -22  -3.0  1034.0      NW   242.70   \n",
              "43798  2014-12-31 22:00:00        8.0  -22  -4.0  1034.0      NW   246.72   \n",
              "43799  2014-12-31 23:00:00       12.0  -21  -3.0  1034.0      NW   249.85   \n",
              "\n",
              "       snow  rain  \n",
              "0         0     0  \n",
              "1         0     0  \n",
              "2         0     0  \n",
              "3         1     0  \n",
              "4         2     0  \n",
              "...     ...   ...  \n",
              "43795     0     0  \n",
              "43796     0     0  \n",
              "43797     0     0  \n",
              "43798     0     0  \n",
              "43799     0     0  \n",
              "\n",
              "[43800 rows x 9 columns]"
            ],
            "text/html": [
              "\n",
              "  <div id=\"df-85065e8f-50af-4b86-b886-1e979c9e51a4\">\n",
              "    <div class=\"colab-df-container\">\n",
              "      <div>\n",
              "<style scoped>\n",
              "    .dataframe tbody tr th:only-of-type {\n",
              "        vertical-align: middle;\n",
              "    }\n",
              "\n",
              "    .dataframe tbody tr th {\n",
              "        vertical-align: top;\n",
              "    }\n",
              "\n",
              "    .dataframe thead th {\n",
              "        text-align: right;\n",
              "    }\n",
              "</style>\n",
              "<table border=\"1\" class=\"dataframe\">\n",
              "  <thead>\n",
              "    <tr style=\"text-align: right;\">\n",
              "      <th></th>\n",
              "      <th>date</th>\n",
              "      <th>pollution</th>\n",
              "      <th>dew</th>\n",
              "      <th>temp</th>\n",
              "      <th>press</th>\n",
              "      <th>wnd_dir</th>\n",
              "      <th>wnd_spd</th>\n",
              "      <th>snow</th>\n",
              "      <th>rain</th>\n",
              "    </tr>\n",
              "  </thead>\n",
              "  <tbody>\n",
              "    <tr>\n",
              "      <th>0</th>\n",
              "      <td>2010-01-02 00:00:00</td>\n",
              "      <td>129.0</td>\n",
              "      <td>-16</td>\n",
              "      <td>-4.0</td>\n",
              "      <td>1020.0</td>\n",
              "      <td>SE</td>\n",
              "      <td>1.79</td>\n",
              "      <td>0</td>\n",
              "      <td>0</td>\n",
              "    </tr>\n",
              "    <tr>\n",
              "      <th>1</th>\n",
              "      <td>2010-01-02 01:00:00</td>\n",
              "      <td>148.0</td>\n",
              "      <td>-15</td>\n",
              "      <td>-4.0</td>\n",
              "      <td>1020.0</td>\n",
              "      <td>SE</td>\n",
              "      <td>2.68</td>\n",
              "      <td>0</td>\n",
              "      <td>0</td>\n",
              "    </tr>\n",
              "    <tr>\n",
              "      <th>2</th>\n",
              "      <td>2010-01-02 02:00:00</td>\n",
              "      <td>159.0</td>\n",
              "      <td>-11</td>\n",
              "      <td>-5.0</td>\n",
              "      <td>1021.0</td>\n",
              "      <td>SE</td>\n",
              "      <td>3.57</td>\n",
              "      <td>0</td>\n",
              "      <td>0</td>\n",
              "    </tr>\n",
              "    <tr>\n",
              "      <th>3</th>\n",
              "      <td>2010-01-02 03:00:00</td>\n",
              "      <td>181.0</td>\n",
              "      <td>-7</td>\n",
              "      <td>-5.0</td>\n",
              "      <td>1022.0</td>\n",
              "      <td>SE</td>\n",
              "      <td>5.36</td>\n",
              "      <td>1</td>\n",
              "      <td>0</td>\n",
              "    </tr>\n",
              "    <tr>\n",
              "      <th>4</th>\n",
              "      <td>2010-01-02 04:00:00</td>\n",
              "      <td>138.0</td>\n",
              "      <td>-7</td>\n",
              "      <td>-5.0</td>\n",
              "      <td>1022.0</td>\n",
              "      <td>SE</td>\n",
              "      <td>6.25</td>\n",
              "      <td>2</td>\n",
              "      <td>0</td>\n",
              "    </tr>\n",
              "    <tr>\n",
              "      <th>...</th>\n",
              "      <td>...</td>\n",
              "      <td>...</td>\n",
              "      <td>...</td>\n",
              "      <td>...</td>\n",
              "      <td>...</td>\n",
              "      <td>...</td>\n",
              "      <td>...</td>\n",
              "      <td>...</td>\n",
              "      <td>...</td>\n",
              "    </tr>\n",
              "    <tr>\n",
              "      <th>43795</th>\n",
              "      <td>2014-12-31 19:00:00</td>\n",
              "      <td>8.0</td>\n",
              "      <td>-23</td>\n",
              "      <td>-2.0</td>\n",
              "      <td>1034.0</td>\n",
              "      <td>NW</td>\n",
              "      <td>231.97</td>\n",
              "      <td>0</td>\n",
              "      <td>0</td>\n",
              "    </tr>\n",
              "    <tr>\n",
              "      <th>43796</th>\n",
              "      <td>2014-12-31 20:00:00</td>\n",
              "      <td>10.0</td>\n",
              "      <td>-22</td>\n",
              "      <td>-3.0</td>\n",
              "      <td>1034.0</td>\n",
              "      <td>NW</td>\n",
              "      <td>237.78</td>\n",
              "      <td>0</td>\n",
              "      <td>0</td>\n",
              "    </tr>\n",
              "    <tr>\n",
              "      <th>43797</th>\n",
              "      <td>2014-12-31 21:00:00</td>\n",
              "      <td>10.0</td>\n",
              "      <td>-22</td>\n",
              "      <td>-3.0</td>\n",
              "      <td>1034.0</td>\n",
              "      <td>NW</td>\n",
              "      <td>242.70</td>\n",
              "      <td>0</td>\n",
              "      <td>0</td>\n",
              "    </tr>\n",
              "    <tr>\n",
              "      <th>43798</th>\n",
              "      <td>2014-12-31 22:00:00</td>\n",
              "      <td>8.0</td>\n",
              "      <td>-22</td>\n",
              "      <td>-4.0</td>\n",
              "      <td>1034.0</td>\n",
              "      <td>NW</td>\n",
              "      <td>246.72</td>\n",
              "      <td>0</td>\n",
              "      <td>0</td>\n",
              "    </tr>\n",
              "    <tr>\n",
              "      <th>43799</th>\n",
              "      <td>2014-12-31 23:00:00</td>\n",
              "      <td>12.0</td>\n",
              "      <td>-21</td>\n",
              "      <td>-3.0</td>\n",
              "      <td>1034.0</td>\n",
              "      <td>NW</td>\n",
              "      <td>249.85</td>\n",
              "      <td>0</td>\n",
              "      <td>0</td>\n",
              "    </tr>\n",
              "  </tbody>\n",
              "</table>\n",
              "<p>43800 rows × 9 columns</p>\n",
              "</div>\n",
              "      <button class=\"colab-df-convert\" onclick=\"convertToInteractive('df-85065e8f-50af-4b86-b886-1e979c9e51a4')\"\n",
              "              title=\"Convert this dataframe to an interactive table.\"\n",
              "              style=\"display:none;\">\n",
              "        \n",
              "  <svg xmlns=\"http://www.w3.org/2000/svg\" height=\"24px\"viewBox=\"0 0 24 24\"\n",
              "       width=\"24px\">\n",
              "    <path d=\"M0 0h24v24H0V0z\" fill=\"none\"/>\n",
              "    <path d=\"M18.56 5.44l.94 2.06.94-2.06 2.06-.94-2.06-.94-.94-2.06-.94 2.06-2.06.94zm-11 1L8.5 8.5l.94-2.06 2.06-.94-2.06-.94L8.5 2.5l-.94 2.06-2.06.94zm10 10l.94 2.06.94-2.06 2.06-.94-2.06-.94-.94-2.06-.94 2.06-2.06.94z\"/><path d=\"M17.41 7.96l-1.37-1.37c-.4-.4-.92-.59-1.43-.59-.52 0-1.04.2-1.43.59L10.3 9.45l-7.72 7.72c-.78.78-.78 2.05 0 2.83L4 21.41c.39.39.9.59 1.41.59.51 0 1.02-.2 1.41-.59l7.78-7.78 2.81-2.81c.8-.78.8-2.07 0-2.86zM5.41 20L4 18.59l7.72-7.72 1.47 1.35L5.41 20z\"/>\n",
              "  </svg>\n",
              "      </button>\n",
              "      \n",
              "  <style>\n",
              "    .colab-df-container {\n",
              "      display:flex;\n",
              "      flex-wrap:wrap;\n",
              "      gap: 12px;\n",
              "    }\n",
              "\n",
              "    .colab-df-convert {\n",
              "      background-color: #E8F0FE;\n",
              "      border: none;\n",
              "      border-radius: 50%;\n",
              "      cursor: pointer;\n",
              "      display: none;\n",
              "      fill: #1967D2;\n",
              "      height: 32px;\n",
              "      padding: 0 0 0 0;\n",
              "      width: 32px;\n",
              "    }\n",
              "\n",
              "    .colab-df-convert:hover {\n",
              "      background-color: #E2EBFA;\n",
              "      box-shadow: 0px 1px 2px rgba(60, 64, 67, 0.3), 0px 1px 3px 1px rgba(60, 64, 67, 0.15);\n",
              "      fill: #174EA6;\n",
              "    }\n",
              "\n",
              "    [theme=dark] .colab-df-convert {\n",
              "      background-color: #3B4455;\n",
              "      fill: #D2E3FC;\n",
              "    }\n",
              "\n",
              "    [theme=dark] .colab-df-convert:hover {\n",
              "      background-color: #434B5C;\n",
              "      box-shadow: 0px 1px 3px 1px rgba(0, 0, 0, 0.15);\n",
              "      filter: drop-shadow(0px 1px 2px rgba(0, 0, 0, 0.3));\n",
              "      fill: #FFFFFF;\n",
              "    }\n",
              "  </style>\n",
              "\n",
              "      <script>\n",
              "        const buttonEl =\n",
              "          document.querySelector('#df-85065e8f-50af-4b86-b886-1e979c9e51a4 button.colab-df-convert');\n",
              "        buttonEl.style.display =\n",
              "          google.colab.kernel.accessAllowed ? 'block' : 'none';\n",
              "\n",
              "        async function convertToInteractive(key) {\n",
              "          const element = document.querySelector('#df-85065e8f-50af-4b86-b886-1e979c9e51a4');\n",
              "          const dataTable =\n",
              "            await google.colab.kernel.invokeFunction('convertToInteractive',\n",
              "                                                     [key], {});\n",
              "          if (!dataTable) return;\n",
              "\n",
              "          const docLinkHtml = 'Like what you see? Visit the ' +\n",
              "            '<a target=\"_blank\" href=https://colab.research.google.com/notebooks/data_table.ipynb>data table notebook</a>'\n",
              "            + ' to learn more about interactive tables.';\n",
              "          element.innerHTML = '';\n",
              "          dataTable['output_type'] = 'display_data';\n",
              "          await google.colab.output.renderOutput(dataTable, element);\n",
              "          const docLink = document.createElement('div');\n",
              "          docLink.innerHTML = docLinkHtml;\n",
              "          element.appendChild(docLink);\n",
              "        }\n",
              "      </script>\n",
              "    </div>\n",
              "  </div>\n",
              "  "
            ]
          },
          "metadata": {},
          "execution_count": 7
        }
      ],
      "source": [
        "df"
      ]
    },
    {
      "cell_type": "code",
      "source": [
        "df.head\n"
      ],
      "metadata": {
        "colab": {
          "base_uri": "https://localhost:8080/"
        },
        "id": "MlxqmJaGZ381",
        "outputId": "0187d237-30eb-463c-ccfd-1aebcd08600e"
      },
      "id": "MlxqmJaGZ381",
      "execution_count": null,
      "outputs": [
        {
          "output_type": "execute_result",
          "data": {
            "text/plain": [
              "<bound method NDFrame.head of                       date  pollution  dew  temp   press wnd_dir  wnd_spd  \\\n",
              "0      2010-01-02 00:00:00      129.0  -16  -4.0  1020.0      SE     1.79   \n",
              "1      2010-01-02 01:00:00      148.0  -15  -4.0  1020.0      SE     2.68   \n",
              "2      2010-01-02 02:00:00      159.0  -11  -5.0  1021.0      SE     3.57   \n",
              "3      2010-01-02 03:00:00      181.0   -7  -5.0  1022.0      SE     5.36   \n",
              "4      2010-01-02 04:00:00      138.0   -7  -5.0  1022.0      SE     6.25   \n",
              "...                    ...        ...  ...   ...     ...     ...      ...   \n",
              "43795  2014-12-31 19:00:00        8.0  -23  -2.0  1034.0      NW   231.97   \n",
              "43796  2014-12-31 20:00:00       10.0  -22  -3.0  1034.0      NW   237.78   \n",
              "43797  2014-12-31 21:00:00       10.0  -22  -3.0  1034.0      NW   242.70   \n",
              "43798  2014-12-31 22:00:00        8.0  -22  -4.0  1034.0      NW   246.72   \n",
              "43799  2014-12-31 23:00:00       12.0  -21  -3.0  1034.0      NW   249.85   \n",
              "\n",
              "       snow  rain  \n",
              "0         0     0  \n",
              "1         0     0  \n",
              "2         0     0  \n",
              "3         1     0  \n",
              "4         2     0  \n",
              "...     ...   ...  \n",
              "43795     0     0  \n",
              "43796     0     0  \n",
              "43797     0     0  \n",
              "43798     0     0  \n",
              "43799     0     0  \n",
              "\n",
              "[43800 rows x 9 columns]>"
            ]
          },
          "metadata": {},
          "execution_count": 8
        }
      ]
    },
    {
      "cell_type": "code",
      "execution_count": null,
      "id": "7c4f66c5",
      "metadata": {
        "execution": {
          "iopub.execute_input": "2022-05-10T08:09:22.296876Z",
          "iopub.status.busy": "2022-05-10T08:09:22.296631Z",
          "iopub.status.idle": "2022-05-10T08:09:22.309464Z",
          "shell.execute_reply": "2022-05-10T08:09:22.308701Z"
        },
        "papermill": {
          "duration": 0.071995,
          "end_time": "2022-05-10T08:09:22.311223",
          "exception": false,
          "start_time": "2022-05-10T08:09:22.239228",
          "status": "completed"
        },
        "tags": [],
        "colab": {
          "base_uri": "https://localhost:8080/"
        },
        "id": "7c4f66c5",
        "outputId": "31c3c0a9-5540-48b5-e882-c53ad024beda"
      },
      "outputs": [
        {
          "output_type": "execute_result",
          "data": {
            "text/plain": [
              "array(['SE', 'cv', 'NW', 'NE'], dtype=object)"
            ]
          },
          "metadata": {},
          "execution_count": 9
        }
      ],
      "source": [
        "df[\"wnd_dir\"].unique()"
      ]
    },
    {
      "cell_type": "code",
      "execution_count": null,
      "id": "6616dcd0",
      "metadata": {
        "execution": {
          "iopub.execute_input": "2022-05-10T08:09:22.425889Z",
          "iopub.status.busy": "2022-05-10T08:09:22.425237Z",
          "iopub.status.idle": "2022-05-10T08:09:22.455812Z",
          "shell.execute_reply": "2022-05-10T08:09:22.455180Z"
        },
        "papermill": {
          "duration": 0.089171,
          "end_time": "2022-05-10T08:09:22.457438",
          "exception": false,
          "start_time": "2022-05-10T08:09:22.368267",
          "status": "completed"
        },
        "tags": [],
        "id": "6616dcd0"
      },
      "outputs": [],
      "source": [
        "# Encoding the string based data feature into integers\n",
        "\n",
        "def func(s):\n",
        "    if s == \"SE\":\n",
        "        return 1\n",
        "    elif s == \"NE\":\n",
        "        return 2\n",
        "    elif s == \"NW\":\n",
        "        return 3\n",
        "    else:\n",
        "        return 4\n",
        "\n",
        "df[\"wind_dir\"] = df[\"wnd_dir\"].apply(func)"
      ]
    },
    {
      "cell_type": "code",
      "execution_count": null,
      "id": "a703d184",
      "metadata": {
        "execution": {
          "iopub.execute_input": "2022-05-10T08:09:22.568104Z",
          "iopub.status.busy": "2022-05-10T08:09:22.567710Z",
          "iopub.status.idle": "2022-05-10T08:09:22.571850Z",
          "shell.execute_reply": "2022-05-10T08:09:22.571187Z"
        },
        "papermill": {
          "duration": 0.061354,
          "end_time": "2022-05-10T08:09:22.573478",
          "exception": false,
          "start_time": "2022-05-10T08:09:22.512124",
          "status": "completed"
        },
        "tags": [],
        "id": "a703d184"
      },
      "outputs": [],
      "source": [
        "del df[\"wnd_dir\"]"
      ]
    },
    {
      "cell_type": "markdown",
      "id": "eab9ceb3",
      "metadata": {
        "papermill": {
          "duration": 0.055284,
          "end_time": "2022-05-10T08:09:22.683869",
          "exception": false,
          "start_time": "2022-05-10T08:09:22.628585",
          "status": "completed"
        },
        "tags": [],
        "id": "eab9ceb3"
      },
      "source": [
        "# Data Visualization"
      ]
    },
    {
      "cell_type": "code",
      "execution_count": null,
      "id": "36354b9b",
      "metadata": {
        "execution": {
          "iopub.execute_input": "2022-05-10T08:09:22.795433Z",
          "iopub.status.busy": "2022-05-10T08:09:22.794722Z",
          "iopub.status.idle": "2022-05-10T08:09:22.812723Z",
          "shell.execute_reply": "2022-05-10T08:09:22.812000Z"
        },
        "papermill": {
          "duration": 0.075364,
          "end_time": "2022-05-10T08:09:22.814505",
          "exception": false,
          "start_time": "2022-05-10T08:09:22.739141",
          "status": "completed"
        },
        "tags": [],
        "colab": {
          "base_uri": "https://localhost:8080/",
          "height": 424
        },
        "id": "36354b9b",
        "outputId": "4032ce53-5bf3-4c71-8f03-2450787de3d8"
      },
      "outputs": [
        {
          "output_type": "execute_result",
          "data": {
            "text/plain": [
              "                      date  pollution  dew  temp   press  wnd_spd  snow  rain  \\\n",
              "0      2010-01-02 00:00:00      129.0  -16  -4.0  1020.0     1.79     0     0   \n",
              "1      2010-01-02 01:00:00      148.0  -15  -4.0  1020.0     2.68     0     0   \n",
              "2      2010-01-02 02:00:00      159.0  -11  -5.0  1021.0     3.57     0     0   \n",
              "3      2010-01-02 03:00:00      181.0   -7  -5.0  1022.0     5.36     1     0   \n",
              "4      2010-01-02 04:00:00      138.0   -7  -5.0  1022.0     6.25     2     0   \n",
              "...                    ...        ...  ...   ...     ...      ...   ...   ...   \n",
              "43795  2014-12-31 19:00:00        8.0  -23  -2.0  1034.0   231.97     0     0   \n",
              "43796  2014-12-31 20:00:00       10.0  -22  -3.0  1034.0   237.78     0     0   \n",
              "43797  2014-12-31 21:00:00       10.0  -22  -3.0  1034.0   242.70     0     0   \n",
              "43798  2014-12-31 22:00:00        8.0  -22  -4.0  1034.0   246.72     0     0   \n",
              "43799  2014-12-31 23:00:00       12.0  -21  -3.0  1034.0   249.85     0     0   \n",
              "\n",
              "       wind_dir  \n",
              "0             1  \n",
              "1             1  \n",
              "2             1  \n",
              "3             1  \n",
              "4             1  \n",
              "...         ...  \n",
              "43795         3  \n",
              "43796         3  \n",
              "43797         3  \n",
              "43798         3  \n",
              "43799         3  \n",
              "\n",
              "[43800 rows x 9 columns]"
            ],
            "text/html": [
              "\n",
              "  <div id=\"df-2dfcd961-8bec-418e-a8a5-c6d649475871\">\n",
              "    <div class=\"colab-df-container\">\n",
              "      <div>\n",
              "<style scoped>\n",
              "    .dataframe tbody tr th:only-of-type {\n",
              "        vertical-align: middle;\n",
              "    }\n",
              "\n",
              "    .dataframe tbody tr th {\n",
              "        vertical-align: top;\n",
              "    }\n",
              "\n",
              "    .dataframe thead th {\n",
              "        text-align: right;\n",
              "    }\n",
              "</style>\n",
              "<table border=\"1\" class=\"dataframe\">\n",
              "  <thead>\n",
              "    <tr style=\"text-align: right;\">\n",
              "      <th></th>\n",
              "      <th>date</th>\n",
              "      <th>pollution</th>\n",
              "      <th>dew</th>\n",
              "      <th>temp</th>\n",
              "      <th>press</th>\n",
              "      <th>wnd_spd</th>\n",
              "      <th>snow</th>\n",
              "      <th>rain</th>\n",
              "      <th>wind_dir</th>\n",
              "    </tr>\n",
              "  </thead>\n",
              "  <tbody>\n",
              "    <tr>\n",
              "      <th>0</th>\n",
              "      <td>2010-01-02 00:00:00</td>\n",
              "      <td>129.0</td>\n",
              "      <td>-16</td>\n",
              "      <td>-4.0</td>\n",
              "      <td>1020.0</td>\n",
              "      <td>1.79</td>\n",
              "      <td>0</td>\n",
              "      <td>0</td>\n",
              "      <td>1</td>\n",
              "    </tr>\n",
              "    <tr>\n",
              "      <th>1</th>\n",
              "      <td>2010-01-02 01:00:00</td>\n",
              "      <td>148.0</td>\n",
              "      <td>-15</td>\n",
              "      <td>-4.0</td>\n",
              "      <td>1020.0</td>\n",
              "      <td>2.68</td>\n",
              "      <td>0</td>\n",
              "      <td>0</td>\n",
              "      <td>1</td>\n",
              "    </tr>\n",
              "    <tr>\n",
              "      <th>2</th>\n",
              "      <td>2010-01-02 02:00:00</td>\n",
              "      <td>159.0</td>\n",
              "      <td>-11</td>\n",
              "      <td>-5.0</td>\n",
              "      <td>1021.0</td>\n",
              "      <td>3.57</td>\n",
              "      <td>0</td>\n",
              "      <td>0</td>\n",
              "      <td>1</td>\n",
              "    </tr>\n",
              "    <tr>\n",
              "      <th>3</th>\n",
              "      <td>2010-01-02 03:00:00</td>\n",
              "      <td>181.0</td>\n",
              "      <td>-7</td>\n",
              "      <td>-5.0</td>\n",
              "      <td>1022.0</td>\n",
              "      <td>5.36</td>\n",
              "      <td>1</td>\n",
              "      <td>0</td>\n",
              "      <td>1</td>\n",
              "    </tr>\n",
              "    <tr>\n",
              "      <th>4</th>\n",
              "      <td>2010-01-02 04:00:00</td>\n",
              "      <td>138.0</td>\n",
              "      <td>-7</td>\n",
              "      <td>-5.0</td>\n",
              "      <td>1022.0</td>\n",
              "      <td>6.25</td>\n",
              "      <td>2</td>\n",
              "      <td>0</td>\n",
              "      <td>1</td>\n",
              "    </tr>\n",
              "    <tr>\n",
              "      <th>...</th>\n",
              "      <td>...</td>\n",
              "      <td>...</td>\n",
              "      <td>...</td>\n",
              "      <td>...</td>\n",
              "      <td>...</td>\n",
              "      <td>...</td>\n",
              "      <td>...</td>\n",
              "      <td>...</td>\n",
              "      <td>...</td>\n",
              "    </tr>\n",
              "    <tr>\n",
              "      <th>43795</th>\n",
              "      <td>2014-12-31 19:00:00</td>\n",
              "      <td>8.0</td>\n",
              "      <td>-23</td>\n",
              "      <td>-2.0</td>\n",
              "      <td>1034.0</td>\n",
              "      <td>231.97</td>\n",
              "      <td>0</td>\n",
              "      <td>0</td>\n",
              "      <td>3</td>\n",
              "    </tr>\n",
              "    <tr>\n",
              "      <th>43796</th>\n",
              "      <td>2014-12-31 20:00:00</td>\n",
              "      <td>10.0</td>\n",
              "      <td>-22</td>\n",
              "      <td>-3.0</td>\n",
              "      <td>1034.0</td>\n",
              "      <td>237.78</td>\n",
              "      <td>0</td>\n",
              "      <td>0</td>\n",
              "      <td>3</td>\n",
              "    </tr>\n",
              "    <tr>\n",
              "      <th>43797</th>\n",
              "      <td>2014-12-31 21:00:00</td>\n",
              "      <td>10.0</td>\n",
              "      <td>-22</td>\n",
              "      <td>-3.0</td>\n",
              "      <td>1034.0</td>\n",
              "      <td>242.70</td>\n",
              "      <td>0</td>\n",
              "      <td>0</td>\n",
              "      <td>3</td>\n",
              "    </tr>\n",
              "    <tr>\n",
              "      <th>43798</th>\n",
              "      <td>2014-12-31 22:00:00</td>\n",
              "      <td>8.0</td>\n",
              "      <td>-22</td>\n",
              "      <td>-4.0</td>\n",
              "      <td>1034.0</td>\n",
              "      <td>246.72</td>\n",
              "      <td>0</td>\n",
              "      <td>0</td>\n",
              "      <td>3</td>\n",
              "    </tr>\n",
              "    <tr>\n",
              "      <th>43799</th>\n",
              "      <td>2014-12-31 23:00:00</td>\n",
              "      <td>12.0</td>\n",
              "      <td>-21</td>\n",
              "      <td>-3.0</td>\n",
              "      <td>1034.0</td>\n",
              "      <td>249.85</td>\n",
              "      <td>0</td>\n",
              "      <td>0</td>\n",
              "      <td>3</td>\n",
              "    </tr>\n",
              "  </tbody>\n",
              "</table>\n",
              "<p>43800 rows × 9 columns</p>\n",
              "</div>\n",
              "      <button class=\"colab-df-convert\" onclick=\"convertToInteractive('df-2dfcd961-8bec-418e-a8a5-c6d649475871')\"\n",
              "              title=\"Convert this dataframe to an interactive table.\"\n",
              "              style=\"display:none;\">\n",
              "        \n",
              "  <svg xmlns=\"http://www.w3.org/2000/svg\" height=\"24px\"viewBox=\"0 0 24 24\"\n",
              "       width=\"24px\">\n",
              "    <path d=\"M0 0h24v24H0V0z\" fill=\"none\"/>\n",
              "    <path d=\"M18.56 5.44l.94 2.06.94-2.06 2.06-.94-2.06-.94-.94-2.06-.94 2.06-2.06.94zm-11 1L8.5 8.5l.94-2.06 2.06-.94-2.06-.94L8.5 2.5l-.94 2.06-2.06.94zm10 10l.94 2.06.94-2.06 2.06-.94-2.06-.94-.94-2.06-.94 2.06-2.06.94z\"/><path d=\"M17.41 7.96l-1.37-1.37c-.4-.4-.92-.59-1.43-.59-.52 0-1.04.2-1.43.59L10.3 9.45l-7.72 7.72c-.78.78-.78 2.05 0 2.83L4 21.41c.39.39.9.59 1.41.59.51 0 1.02-.2 1.41-.59l7.78-7.78 2.81-2.81c.8-.78.8-2.07 0-2.86zM5.41 20L4 18.59l7.72-7.72 1.47 1.35L5.41 20z\"/>\n",
              "  </svg>\n",
              "      </button>\n",
              "      \n",
              "  <style>\n",
              "    .colab-df-container {\n",
              "      display:flex;\n",
              "      flex-wrap:wrap;\n",
              "      gap: 12px;\n",
              "    }\n",
              "\n",
              "    .colab-df-convert {\n",
              "      background-color: #E8F0FE;\n",
              "      border: none;\n",
              "      border-radius: 50%;\n",
              "      cursor: pointer;\n",
              "      display: none;\n",
              "      fill: #1967D2;\n",
              "      height: 32px;\n",
              "      padding: 0 0 0 0;\n",
              "      width: 32px;\n",
              "    }\n",
              "\n",
              "    .colab-df-convert:hover {\n",
              "      background-color: #E2EBFA;\n",
              "      box-shadow: 0px 1px 2px rgba(60, 64, 67, 0.3), 0px 1px 3px 1px rgba(60, 64, 67, 0.15);\n",
              "      fill: #174EA6;\n",
              "    }\n",
              "\n",
              "    [theme=dark] .colab-df-convert {\n",
              "      background-color: #3B4455;\n",
              "      fill: #D2E3FC;\n",
              "    }\n",
              "\n",
              "    [theme=dark] .colab-df-convert:hover {\n",
              "      background-color: #434B5C;\n",
              "      box-shadow: 0px 1px 3px 1px rgba(0, 0, 0, 0.15);\n",
              "      filter: drop-shadow(0px 1px 2px rgba(0, 0, 0, 0.3));\n",
              "      fill: #FFFFFF;\n",
              "    }\n",
              "  </style>\n",
              "\n",
              "      <script>\n",
              "        const buttonEl =\n",
              "          document.querySelector('#df-2dfcd961-8bec-418e-a8a5-c6d649475871 button.colab-df-convert');\n",
              "        buttonEl.style.display =\n",
              "          google.colab.kernel.accessAllowed ? 'block' : 'none';\n",
              "\n",
              "        async function convertToInteractive(key) {\n",
              "          const element = document.querySelector('#df-2dfcd961-8bec-418e-a8a5-c6d649475871');\n",
              "          const dataTable =\n",
              "            await google.colab.kernel.invokeFunction('convertToInteractive',\n",
              "                                                     [key], {});\n",
              "          if (!dataTable) return;\n",
              "\n",
              "          const docLinkHtml = 'Like what you see? Visit the ' +\n",
              "            '<a target=\"_blank\" href=https://colab.research.google.com/notebooks/data_table.ipynb>data table notebook</a>'\n",
              "            + ' to learn more about interactive tables.';\n",
              "          element.innerHTML = '';\n",
              "          dataTable['output_type'] = 'display_data';\n",
              "          await google.colab.output.renderOutput(dataTable, element);\n",
              "          const docLink = document.createElement('div');\n",
              "          docLink.innerHTML = docLinkHtml;\n",
              "          element.appendChild(docLink);\n",
              "        }\n",
              "      </script>\n",
              "    </div>\n",
              "  </div>\n",
              "  "
            ]
          },
          "metadata": {},
          "execution_count": 12
        }
      ],
      "source": [
        "df"
      ]
    },
    {
      "cell_type": "code",
      "execution_count": null,
      "id": "318abd06",
      "metadata": {
        "execution": {
          "iopub.execute_input": "2022-05-10T08:09:22.931255Z",
          "iopub.status.busy": "2022-05-10T08:09:22.931042Z",
          "iopub.status.idle": "2022-05-10T08:09:23.544509Z",
          "shell.execute_reply": "2022-05-10T08:09:23.543879Z"
        },
        "papermill": {
          "duration": 0.673846,
          "end_time": "2022-05-10T08:09:23.548604",
          "exception": false,
          "start_time": "2022-05-10T08:09:22.874758",
          "status": "completed"
        },
        "tags": [],
        "colab": {
          "base_uri": "https://localhost:8080/",
          "height": 776
        },
        "id": "318abd06",
        "outputId": "490dea60-747e-4e9c-db64-e8b7cbbe161d"
      },
      "outputs": [
        {
          "output_type": "display_data",
          "data": {
            "text/plain": [
              "<Figure size 1440x1008 with 5 Axes>"
            ],
            "image/png": "[encoded data removed]"
          },
          "metadata": {
            "needs_background": "light"
          }
        }
      ],
      "source": [
        "values = df.values\n",
        "\n",
        "# specify columns to plot\n",
        "groups = [1, 2, 3, 5, 6]\n",
        "i = 1\n",
        "\n",
        "# plot each column\n",
        "plt.figure(figsize=(20,14))\n",
        "for group in groups:\n",
        "    plt.subplot(len(groups), 1, i)\n",
        "    plt.plot(values[:, group], c = \"red\")\n",
        "    plt.title(df.columns[group], y=0.75, loc='right', fontsize = 15)\n",
        "    i += 1\n",
        "plt.show()"
      ]
    },
    {
      "cell_type": "code",
      "execution_count": null,
      "id": "98311a95",
      "metadata": {
        "execution": {
          "iopub.execute_input": "2022-05-10T08:09:23.679470Z",
          "iopub.status.busy": "2022-05-10T08:09:23.679222Z",
          "iopub.status.idle": "2022-05-10T08:09:23.923663Z",
          "shell.execute_reply": "2022-05-10T08:09:23.922977Z"
        },
        "papermill": {
          "duration": 0.313833,
          "end_time": "2022-05-10T08:09:23.926084",
          "exception": false,
          "start_time": "2022-05-10T08:09:23.612251",
          "status": "completed"
        },
        "tags": [],
        "colab": {
          "base_uri": "https://localhost:8080/",
          "height": 428
        },
        "id": "98311a95",
        "outputId": "41e7ec81-c3c5-40e6-80dc-4a499abc3e9c"
      },
      "outputs": [
        {
          "output_type": "display_data",
          "data": {
            "text/plain": [
              "<Figure size 1440x504 with 1 Axes>"
            ],
            "image/png": "[encoded data removed]"
          },
          "metadata": {
            "needs_background": "light"
          }
        }
      ],
      "source": [
        "fig = plt.figure(figsize = (20,7))\n",
        "plt.plot(df.pollution)\n",
        "plt.title(\"Polution variation across the given no.of hours\", fontsize = 15)\n",
        "plt.show()"
      ]
    },
    {
      "cell_type": "code",
      "execution_count": null,
      "id": "c8b8b6ea",
      "metadata": {
        "execution": {
          "iopub.execute_input": "2022-05-10T08:09:24.051791Z",
          "iopub.status.busy": "2022-05-10T08:09:24.051545Z",
          "iopub.status.idle": "2022-05-10T08:09:24.055680Z",
          "shell.execute_reply": "2022-05-10T08:09:24.055032Z"
        },
        "papermill": {
          "duration": 0.068218,
          "end_time": "2022-05-10T08:09:24.057303",
          "exception": false,
          "start_time": "2022-05-10T08:09:23.989085",
          "status": "completed"
        },
        "tags": [],
        "id": "c8b8b6ea"
      },
      "outputs": [],
      "source": [
        "del df[\"date\"]"
      ]
    },
    {
      "cell_type": "code",
      "execution_count": null,
      "id": "8bb65bf6",
      "metadata": {
        "execution": {
          "iopub.execute_input": "2022-05-10T08:09:24.181051Z",
          "iopub.status.busy": "2022-05-10T08:09:24.180618Z",
          "iopub.status.idle": "2022-05-10T08:09:24.326824Z",
          "shell.execute_reply": "2022-05-10T08:09:24.326016Z"
        },
        "papermill": {
          "duration": 0.210669,
          "end_time": "2022-05-10T08:09:24.329058",
          "exception": false,
          "start_time": "2022-05-10T08:09:24.118389",
          "status": "completed"
        },
        "tags": [],
        "id": "8bb65bf6"
      },
      "outputs": [],
      "source": [
        "from sklearn.metrics import mean_absolute_error , mean_squared_error\n",
        "from sklearn.preprocessing import MinMaxScaler\n",
        "from sklearn.preprocessing import LabelEncoder"
      ]
    },
    {
      "cell_type": "code",
      "execution_count": null,
      "id": "eead6297",
      "metadata": {
        "execution": {
          "iopub.execute_input": "2022-05-10T08:09:24.454086Z",
          "iopub.status.busy": "2022-05-10T08:09:24.453406Z",
          "iopub.status.idle": "2022-05-10T08:09:24.464421Z",
          "shell.execute_reply": "2022-05-10T08:09:24.463718Z"
        },
        "papermill": {
          "duration": 0.075744,
          "end_time": "2022-05-10T08:09:24.466285",
          "exception": false,
          "start_time": "2022-05-10T08:09:24.390541",
          "status": "completed"
        },
        "tags": [],
        "id": "eead6297"
      },
      "outputs": [],
      "source": [
        "# Scaling the entire dataset\n",
        "\n",
        "dataset = df\n",
        "values = dataset.values\n",
        "\n",
        "values = values.astype('float32')\n",
        "\n",
        "scaler = MinMaxScaler(feature_range=(0, 1))\n",
        "scaled = scaler.fit_transform(values)"
      ]
    },
    {
      "cell_type": "code",
      "execution_count": null,
      "id": "63321457",
      "metadata": {
        "execution": {
          "iopub.execute_input": "2022-05-10T08:09:24.592462Z",
          "iopub.status.busy": "2022-05-10T08:09:24.592192Z",
          "iopub.status.idle": "2022-05-10T08:09:24.610614Z",
          "shell.execute_reply": "2022-05-10T08:09:24.609346Z"
        },
        "papermill": {
          "duration": 0.085509,
          "end_time": "2022-05-10T08:09:24.613962",
          "exception": false,
          "start_time": "2022-05-10T08:09:24.528453",
          "status": "completed"
        },
        "tags": [],
        "colab": {
          "base_uri": "https://localhost:8080/"
        },
        "id": "63321457",
        "outputId": "4bc01ce6-e0e4-4811-e607-b037ead526c5"
      },
      "outputs": [
        {
          "output_type": "stream",
          "name": "stdout",
          "text": [
            "(43799, 16)\n"
          ]
        }
      ],
      "source": [
        "# converting the dataset as supervised learning\n",
        "\n",
        "reframed = series_to_supervised(scaled, 1, 1)\n",
        "print(reframed.shape)"
      ]
    },
    {
      "cell_type": "code",
      "execution_count": null,
      "id": "0d9f49b2",
      "metadata": {
        "execution": {
          "iopub.execute_input": "2022-05-10T08:09:24.756236Z",
          "iopub.status.busy": "2022-05-10T08:09:24.755478Z",
          "iopub.status.idle": "2022-05-10T08:09:24.767997Z",
          "shell.execute_reply": "2022-05-10T08:09:24.767116Z"
        },
        "papermill": {
          "duration": 0.085712,
          "end_time": "2022-05-10T08:09:24.771084",
          "exception": false,
          "start_time": "2022-05-10T08:09:24.685372",
          "status": "completed"
        },
        "tags": [],
        "colab": {
          "base_uri": "https://localhost:8080/"
        },
        "id": "0d9f49b2",
        "outputId": "a680143f-e81a-4b26-c6af-0e306f511b1f"
      },
      "outputs": [
        {
          "output_type": "stream",
          "name": "stdout",
          "text": [
            "   var1(t-1)  var2(t-1)  var3(t-1)  var4(t-1)  var5(t-1)  var6(t-1)  \\\n",
            "1   0.129779   0.352941   0.245902   0.527273   0.002290   0.000000   \n",
            "2   0.148893   0.367647   0.245902   0.527273   0.003811   0.000000   \n",
            "3   0.159960   0.426471   0.229508   0.545454   0.005332   0.000000   \n",
            "4   0.182093   0.485294   0.229508   0.563637   0.008391   0.037037   \n",
            "5   0.138833   0.485294   0.229508   0.563637   0.009912   0.074074   \n",
            "\n",
            "   var7(t-1)  var8(t-1)   var1(t)   var2(t)   var3(t)   var4(t)   var5(t)  \\\n",
            "1        0.0        0.0  0.148893  0.367647  0.245902  0.527273  0.003811   \n",
            "2        0.0        0.0  0.159960  0.426471  0.229508  0.545454  0.005332   \n",
            "3        0.0        0.0  0.182093  0.485294  0.229508  0.563637  0.008391   \n",
            "4        0.0        0.0  0.138833  0.485294  0.229508  0.563637  0.009912   \n",
            "5        0.0        0.0  0.109658  0.485294  0.213115  0.563637  0.011433   \n",
            "\n",
            "    var6(t)  var7(t)  var8(t)  \n",
            "1  0.000000      0.0      0.0  \n",
            "2  0.000000      0.0      0.0  \n",
            "3  0.037037      0.0      0.0  \n",
            "4  0.074074      0.0      0.0  \n",
            "5  0.111111      0.0      0.0  \n"
          ]
        }
      ],
      "source": [
        "print(reframed.head())\n",
        "\n",
        "# Here, there are some unwanted data, which we don't want to predict, like var2(t), var3(3), ...."
      ]
    },
    {
      "cell_type": "code",
      "execution_count": null,
      "id": "85cebbd0",
      "metadata": {
        "execution": {
          "iopub.execute_input": "2022-05-10T08:09:24.907946Z",
          "iopub.status.busy": "2022-05-10T08:09:24.907685Z",
          "iopub.status.idle": "2022-05-10T08:09:24.912891Z",
          "shell.execute_reply": "2022-05-10T08:09:24.912227Z"
        },
        "papermill": {
          "duration": 0.072412,
          "end_time": "2022-05-10T08:09:24.914725",
          "exception": false,
          "start_time": "2022-05-10T08:09:24.842313",
          "status": "completed"
        },
        "tags": [],
        "colab": {
          "base_uri": "https://localhost:8080/"
        },
        "id": "85cebbd0",
        "outputId": "25a57334-c8bc-4674-838c-f72dc2a4a7e0"
      },
      "outputs": [
        {
          "output_type": "execute_result",
          "data": {
            "text/plain": [
              "Index(['var1(t-1)', 'var2(t-1)', 'var3(t-1)', 'var4(t-1)', 'var5(t-1)',\n",
              "       'var6(t-1)', 'var7(t-1)', 'var8(t-1)', 'var1(t)', 'var2(t)', 'var3(t)',\n",
              "       'var4(t)', 'var5(t)', 'var6(t)', 'var7(t)', 'var8(t)'],\n",
              "      dtype='object')"
            ]
          },
          "metadata": {},
          "execution_count": 20
        }
      ],
      "source": [
        "reframed.columns"
      ]
    },
    {
      "cell_type": "code",
      "execution_count": null,
      "id": "179a053f",
      "metadata": {
        "execution": {
          "iopub.execute_input": "2022-05-10T08:09:25.041941Z",
          "iopub.status.busy": "2022-05-10T08:09:25.041674Z",
          "iopub.status.idle": "2022-05-10T08:09:25.052390Z",
          "shell.execute_reply": "2022-05-10T08:09:25.051705Z"
        },
        "papermill": {
          "duration": 0.077414,
          "end_time": "2022-05-10T08:09:25.054785",
          "exception": false,
          "start_time": "2022-05-10T08:09:24.977371",
          "status": "completed"
        },
        "tags": [],
        "colab": {
          "base_uri": "https://localhost:8080/"
        },
        "id": "179a053f",
        "outputId": "f015d203-dee4-4bff-80d0-6b61ec3f4e0c"
      },
      "outputs": [
        {
          "output_type": "stream",
          "name": "stdout",
          "text": [
            "   var1(t-1)  var2(t-1)  var3(t-1)  var4(t-1)  var5(t-1)  var6(t-1)  \\\n",
            "1   0.129779   0.352941   0.245902   0.527273   0.002290   0.000000   \n",
            "2   0.148893   0.367647   0.245902   0.527273   0.003811   0.000000   \n",
            "3   0.159960   0.426471   0.229508   0.545454   0.005332   0.000000   \n",
            "4   0.182093   0.485294   0.229508   0.563637   0.008391   0.037037   \n",
            "5   0.138833   0.485294   0.229508   0.563637   0.009912   0.074074   \n",
            "\n",
            "   var7(t-1)  var8(t-1)   var1(t)  \n",
            "1        0.0        0.0  0.148893  \n",
            "2        0.0        0.0  0.159960  \n",
            "3        0.0        0.0  0.182093  \n",
            "4        0.0        0.0  0.138833  \n",
            "5        0.0        0.0  0.109658  \n"
          ]
        }
      ],
      "source": [
        "# droping columns we don't want to predict\n",
        "\n",
        "reframed.drop(reframed.columns[[9,10,11,12,13,14,15]], axis=1, inplace=True)\n",
        "print(reframed.head())"
      ]
    },
    {
      "cell_type": "markdown",
      "id": "5920a657",
      "metadata": {
        "papermill": {
          "duration": 0.062562,
          "end_time": "2022-05-10T08:09:25.180763",
          "exception": false,
          "start_time": "2022-05-10T08:09:25.118201",
          "status": "completed"
        },
        "tags": [],
        "id": "5920a657"
      },
      "source": [
        "### Splitting the training data given into training and testing data for now."
      ]
    },
    {
      "cell_type": "code",
      "execution_count": null,
      "id": "994b1701",
      "metadata": {
        "execution": {
          "iopub.execute_input": "2022-05-10T08:09:25.308323Z",
          "iopub.status.busy": "2022-05-10T08:09:25.308061Z",
          "iopub.status.idle": "2022-05-10T08:09:25.315678Z",
          "shell.execute_reply": "2022-05-10T08:09:25.314982Z"
        },
        "papermill": {
          "duration": 0.074452,
          "end_time": "2022-05-10T08:09:25.317864",
          "exception": false,
          "start_time": "2022-05-10T08:09:25.243412",
          "status": "completed"
        },
        "tags": [],
        "colab": {
          "base_uri": "https://localhost:8080/"
        },
        "id": "994b1701",
        "outputId": "422c631c-66bc-432f-fca6-7333aabbf311"
      },
      "outputs": [
        {
          "output_type": "stream",
          "name": "stdout",
          "text": [
            "(26280, 1, 8) (26280,) (17519, 1, 8) (17519,)\n"
          ]
        }
      ],
      "source": [
        "values = reframed.values\n",
        "\n",
        "# We train the model on the 1st 3 years and then test on the last year (for now)\n",
        "n_train_hours = 365 * 24 * 3\n",
        "\n",
        "train = values[:n_train_hours, :]\n",
        "test = values[n_train_hours:, :]\n",
        "\n",
        "# split into input and outputs\n",
        "train_X, train_y = train[:, :-1], train[:, -1]\n",
        "test_X, test_y = test[:, :-1], test[:, -1]\n",
        "\n",
        "# reshape input to be 3D :- (no.of samples, no.of timesteps, no.of features)\n",
        "train_X = train_X.reshape((train_X.shape[0], 1, train_X.shape[1]))\n",
        "test_X = test_X.reshape((test_X.shape[0], 1, test_X.shape[1]))\n",
        "print(train_X.shape, train_y.shape, test_X.shape, test_y.shape)"
      ]
    },
    {
      "cell_type": "code",
      "execution_count": null,
      "id": "7cd1c8f4",
      "metadata": {
        "execution": {
          "iopub.execute_input": "2022-05-10T08:09:25.446886Z",
          "iopub.status.busy": "2022-05-10T08:09:25.446197Z",
          "iopub.status.idle": "2022-05-10T08:09:25.452540Z",
          "shell.execute_reply": "2022-05-10T08:09:25.451774Z"
        },
        "papermill": {
          "duration": 0.072077,
          "end_time": "2022-05-10T08:09:25.454192",
          "exception": false,
          "start_time": "2022-05-10T08:09:25.382115",
          "status": "completed"
        },
        "tags": [],
        "colab": {
          "base_uri": "https://localhost:8080/"
        },
        "id": "7cd1c8f4",
        "outputId": "fd09383f-d521-4d3e-b14d-69d0fff29941"
      },
      "outputs": [
        {
          "output_type": "execute_result",
          "data": {
            "text/plain": [
              "((26280, 9), (17519, 9), (43799, 9))"
            ]
          },
          "metadata": {},
          "execution_count": 23
        }
      ],
      "source": [
        "train.shape, test.shape, values.shape"
      ]
    },
    {
      "cell_type": "markdown",
      "id": "bb97a648",
      "metadata": {
        "papermill": {
          "duration": 0.067956,
          "end_time": "2022-05-10T08:09:25.589399",
          "exception": false,
          "start_time": "2022-05-10T08:09:25.521443",
          "status": "completed"
        },
        "tags": [],
        "id": "bb97a648"
      },
      "source": [
        "# Designing some neural networks and training them"
      ]
    },
    {
      "cell_type": "markdown",
      "id": "acb5057e",
      "metadata": {
        "papermill": {
          "duration": 0.074826,
          "end_time": "2022-05-10T08:09:25.738242",
          "exception": false,
          "start_time": "2022-05-10T08:09:25.663416",
          "status": "completed"
        },
        "tags": [],
        "id": "acb5057e"
      },
      "source": [
        "### Creating and testing on a model, which has about 64 LSTM units"
      ]
    },
    {
      "cell_type": "code",
      "execution_count": null,
      "id": "91ec6e37",
      "metadata": {
        "execution": {
          "iopub.execute_input": "2022-05-10T08:09:25.884020Z",
          "iopub.status.busy": "2022-05-10T08:09:25.883459Z",
          "iopub.status.idle": "2022-05-10T08:09:26.761331Z",
          "shell.execute_reply": "2022-05-10T08:09:26.760491Z"
        },
        "papermill": {
          "duration": 0.951768,
          "end_time": "2022-05-10T08:09:26.764046",
          "exception": false,
          "start_time": "2022-05-10T08:09:25.812278",
          "status": "completed"
        },
        "tags": [],
        "id": "91ec6e37"
      },
      "outputs": [],
      "source": [
        "from tensorflow.keras.layers import LSTM, Dense, Dropout, BatchNormalization\n",
        "from tensorflow.keras.models import Sequential"
      ]
    },
    {
      "cell_type": "code",
      "execution_count": null,
      "id": "a81cd0a0",
      "metadata": {
        "execution": {
          "iopub.execute_input": "2022-05-10T08:09:26.897399Z",
          "iopub.status.busy": "2022-05-10T08:09:26.897138Z",
          "iopub.status.idle": "2022-05-10T08:10:12.226630Z",
          "shell.execute_reply": "2022-05-10T08:10:12.225726Z"
        },
        "papermill": {
          "duration": 45.400358,
          "end_time": "2022-05-10T08:10:12.229111",
          "exception": false,
          "start_time": "2022-05-10T08:09:26.828753",
          "status": "completed"
        },
        "tags": [],
        "colab": {
          "base_uri": "https://localhost:8080/"
        },
        "id": "a81cd0a0",
        "outputId": "3b0c5443-4d43-41a5-f98d-9e7ec4c18f8f"
      },
      "outputs": [
        {
          "output_type": "stream",
          "name": "stdout",
          "text": [
            "Epoch 1/50\n",
            "292/292 - 3s - loss: 0.0060 - val_loss: 0.0036 - 3s/epoch - 10ms/step\n",
            "Epoch 2/50\n",
            "292/292 - 1s - loss: 0.0019 - val_loss: 0.0020 - 633ms/epoch - 2ms/step\n",
            "Epoch 3/50\n",
            "292/292 - 1s - loss: 0.0011 - val_loss: 0.0010 - 603ms/epoch - 2ms/step\n",
            "Epoch 4/50\n",
            "292/292 - 1s - loss: 9.1344e-04 - val_loss: 7.5330e-04 - 672ms/epoch - 2ms/step\n",
            "Epoch 5/50\n",
            "292/292 - 1s - loss: 8.6917e-04 - val_loss: 6.7402e-04 - 617ms/epoch - 2ms/step\n",
            "Epoch 6/50\n",
            "292/292 - 1s - loss: 8.5410e-04 - val_loss: 6.4331e-04 - 603ms/epoch - 2ms/step\n",
            "Epoch 7/50\n",
            "292/292 - 1s - loss: 8.4802e-04 - val_loss: 6.2858e-04 - 632ms/epoch - 2ms/step\n",
            "Epoch 8/50\n",
            "292/292 - 1s - loss: 8.4455e-04 - val_loss: 6.1772e-04 - 671ms/epoch - 2ms/step\n",
            "Epoch 9/50\n",
            "292/292 - 1s - loss: 8.4153e-04 - val_loss: 6.0689e-04 - 652ms/epoch - 2ms/step\n",
            "Epoch 10/50\n",
            "292/292 - 1s - loss: 8.3939e-04 - val_loss: 5.9781e-04 - 681ms/epoch - 2ms/step\n",
            "Epoch 11/50\n",
            "292/292 - 1s - loss: 8.3850e-04 - val_loss: 5.9113e-04 - 595ms/epoch - 2ms/step\n",
            "Epoch 12/50\n",
            "292/292 - 1s - loss: 8.3836e-04 - val_loss: 5.8570e-04 - 627ms/epoch - 2ms/step\n",
            "Epoch 13/50\n",
            "292/292 - 1s - loss: 8.3829e-04 - val_loss: 5.8089e-04 - 607ms/epoch - 2ms/step\n",
            "Epoch 14/50\n",
            "292/292 - 1s - loss: 8.3796e-04 - val_loss: 5.7687e-04 - 644ms/epoch - 2ms/step\n",
            "Epoch 15/50\n",
            "292/292 - 1s - loss: 8.3738e-04 - val_loss: 5.7376e-04 - 688ms/epoch - 2ms/step\n",
            "Epoch 16/50\n",
            "292/292 - 1s - loss: 8.3660e-04 - val_loss: 5.7152e-04 - 677ms/epoch - 2ms/step\n",
            "Epoch 17/50\n",
            "292/292 - 1s - loss: 8.3567e-04 - val_loss: 5.6999e-04 - 632ms/epoch - 2ms/step\n",
            "Epoch 18/50\n",
            "292/292 - 1s - loss: 8.3465e-04 - val_loss: 5.6899e-04 - 687ms/epoch - 2ms/step\n",
            "Epoch 19/50\n",
            "292/292 - 1s - loss: 8.3358e-04 - val_loss: 5.6839e-04 - 674ms/epoch - 2ms/step\n",
            "Epoch 20/50\n",
            "292/292 - 1s - loss: 8.3251e-04 - val_loss: 5.6808e-04 - 604ms/epoch - 2ms/step\n",
            "Epoch 21/50\n",
            "292/292 - 1s - loss: 8.3145e-04 - val_loss: 5.6798e-04 - 672ms/epoch - 2ms/step\n",
            "Epoch 22/50\n",
            "292/292 - 1s - loss: 8.3042e-04 - val_loss: 5.6801e-04 - 665ms/epoch - 2ms/step\n",
            "Epoch 23/50\n",
            "292/292 - 1s - loss: 8.2943e-04 - val_loss: 5.6814e-04 - 686ms/epoch - 2ms/step\n",
            "Epoch 24/50\n",
            "292/292 - 1s - loss: 8.2848e-04 - val_loss: 5.6833e-04 - 682ms/epoch - 2ms/step\n",
            "Epoch 25/50\n",
            "292/292 - 1s - loss: 8.2758e-04 - val_loss: 5.6855e-04 - 721ms/epoch - 2ms/step\n",
            "Epoch 26/50\n",
            "292/292 - 1s - loss: 8.2670e-04 - val_loss: 5.6880e-04 - 674ms/epoch - 2ms/step\n",
            "Epoch 27/50\n",
            "292/292 - 1s - loss: 8.2587e-04 - val_loss: 5.6905e-04 - 642ms/epoch - 2ms/step\n",
            "Epoch 28/50\n",
            "292/292 - 1s - loss: 8.2506e-04 - val_loss: 5.6930e-04 - 695ms/epoch - 2ms/step\n",
            "Epoch 29/50\n",
            "292/292 - 1s - loss: 8.2428e-04 - val_loss: 5.6955e-04 - 705ms/epoch - 2ms/step\n",
            "Epoch 30/50\n",
            "292/292 - 1s - loss: 8.2353e-04 - val_loss: 5.6979e-04 - 627ms/epoch - 2ms/step\n",
            "Epoch 31/50\n",
            "292/292 - 1s - loss: 8.2280e-04 - val_loss: 5.7003e-04 - 660ms/epoch - 2ms/step\n",
            "Epoch 32/50\n",
            "292/292 - 1s - loss: 8.2210e-04 - val_loss: 5.7027e-04 - 647ms/epoch - 2ms/step\n",
            "Epoch 33/50\n",
            "292/292 - 1s - loss: 8.2141e-04 - val_loss: 5.7050e-04 - 672ms/epoch - 2ms/step\n",
            "Epoch 34/50\n",
            "292/292 - 1s - loss: 8.2075e-04 - val_loss: 5.7072e-04 - 658ms/epoch - 2ms/step\n",
            "Epoch 35/50\n",
            "292/292 - 1s - loss: 8.2010e-04 - val_loss: 5.7094e-04 - 627ms/epoch - 2ms/step\n",
            "Epoch 36/50\n",
            "292/292 - 1s - loss: 8.1947e-04 - val_loss: 5.7114e-04 - 618ms/epoch - 2ms/step\n",
            "Epoch 37/50\n",
            "292/292 - 1s - loss: 8.1886e-04 - val_loss: 5.7133e-04 - 632ms/epoch - 2ms/step\n",
            "Epoch 38/50\n",
            "292/292 - 1s - loss: 8.1827e-04 - val_loss: 5.7149e-04 - 644ms/epoch - 2ms/step\n",
            "Epoch 39/50\n",
            "292/292 - 1s - loss: 8.1770e-04 - val_loss: 5.7161e-04 - 669ms/epoch - 2ms/step\n",
            "Epoch 40/50\n",
            "292/292 - 1s - loss: 8.1714e-04 - val_loss: 5.7190e-04 - 673ms/epoch - 2ms/step\n",
            "Epoch 41/50\n",
            "292/292 - 1s - loss: 8.1659e-04 - val_loss: 5.7212e-04 - 639ms/epoch - 2ms/step\n",
            "Epoch 42/50\n",
            "292/292 - 1s - loss: 8.1604e-04 - val_loss: 5.7227e-04 - 628ms/epoch - 2ms/step\n",
            "Epoch 43/50\n",
            "292/292 - 1s - loss: 8.1553e-04 - val_loss: 5.7246e-04 - 663ms/epoch - 2ms/step\n",
            "Epoch 44/50\n",
            "292/292 - 1s - loss: 8.1503e-04 - val_loss: 5.7265e-04 - 683ms/epoch - 2ms/step\n",
            "Epoch 45/50\n",
            "292/292 - 1s - loss: 8.1453e-04 - val_loss: 5.7283e-04 - 624ms/epoch - 2ms/step\n",
            "Epoch 46/50\n",
            "292/292 - 1s - loss: 8.1406e-04 - val_loss: 5.7298e-04 - 630ms/epoch - 2ms/step\n",
            "Epoch 47/50\n",
            "292/292 - 1s - loss: 8.1359e-04 - val_loss: 5.7322e-04 - 690ms/epoch - 2ms/step\n",
            "Epoch 48/50\n",
            "292/292 - 1s - loss: 8.1313e-04 - val_loss: 5.7345e-04 - 631ms/epoch - 2ms/step\n",
            "Epoch 49/50\n",
            "292/292 - 1s - loss: 8.1269e-04 - val_loss: 5.7363e-04 - 613ms/epoch - 2ms/step\n",
            "Epoch 50/50\n",
            "292/292 - 1s - loss: 8.1227e-04 - val_loss: 5.7381e-04 - 698ms/epoch - 2ms/step\n"
          ]
        }
      ],
      "source": [
        "model = Sequential()\n",
        "model.add(LSTM(64, input_shape=(train_X.shape[1], train_X.shape[2])))\n",
        "model.add(Dense(1))\n",
        "model.compile(loss='mse', optimizer='adam')\n",
        "\n",
        "# fit network\n",
        "history = model.fit(train_X, train_y, epochs=50, batch_size=72, validation_split=0.2, verbose=2, shuffle=False)"
      ]
    },
    {
      "cell_type": "code",
      "execution_count": null,
      "id": "13a0df0e",
      "metadata": {
        "execution": {
          "iopub.execute_input": "2022-05-10T08:10:12.450363Z",
          "iopub.status.busy": "2022-05-10T08:10:12.450084Z",
          "iopub.status.idle": "2022-05-10T08:10:12.661061Z",
          "shell.execute_reply": "2022-05-10T08:10:12.660383Z"
        },
        "papermill": {
          "duration": 0.325484,
          "end_time": "2022-05-10T08:10:12.662933",
          "exception": false,
          "start_time": "2022-05-10T08:10:12.337449",
          "status": "completed"
        },
        "tags": [],
        "colab": {
          "base_uri": "https://localhost:8080/",
          "height": 374
        },
        "id": "13a0df0e",
        "outputId": "ad239486-f518-44d4-eb19-dff77d45248c"
      },
      "outputs": [
        {
          "output_type": "display_data",
          "data": {
            "text/plain": [
              "<Figure size 1080x432 with 1 Axes>"
            ],
            "image/png": "[encoded data removed]"
          },
          "metadata": {
            "needs_background": "light"
          }
        }
      ],
      "source": [
        "plt.figure(figsize=(15,6))\n",
        "plt.plot(history.history['loss'], label='train', linewidth = 2.5)\n",
        "plt.plot(history.history['val_loss'], label='test',  linewidth = 2.5)\n",
        "plt.legend()\n",
        "plt.show()"
      ]
    },
    {
      "cell_type": "code",
      "execution_count": null,
      "id": "096b0110",
      "metadata": {
        "execution": {
          "iopub.execute_input": "2022-05-10T08:10:12.884260Z",
          "iopub.status.busy": "2022-05-10T08:10:12.883466Z",
          "iopub.status.idle": "2022-05-10T08:10:12.891987Z",
          "shell.execute_reply": "2022-05-10T08:10:12.891234Z"
        },
        "papermill": {
          "duration": 0.122124,
          "end_time": "2022-05-10T08:10:12.894053",
          "exception": false,
          "start_time": "2022-05-10T08:10:12.771929",
          "status": "completed"
        },
        "tags": [],
        "colab": {
          "base_uri": "https://localhost:8080/"
        },
        "id": "096b0110",
        "outputId": "948b9c35-3ad5-41b1-dd3d-f64bc8cf2f88"
      },
      "outputs": [
        {
          "output_type": "execute_result",
          "data": {
            "text/plain": [
              "(17519, 1, 8)"
            ]
          },
          "metadata": {},
          "execution_count": 27
        }
      ],
      "source": [
        "test_X.shape"
      ]
    },
    {
      "cell_type": "code",
      "execution_count": null,
      "id": "73bd0ca5",
      "metadata": {
        "execution": {
          "iopub.execute_input": "2022-05-10T08:10:13.114438Z",
          "iopub.status.busy": "2022-05-10T08:10:13.114162Z",
          "iopub.status.idle": "2022-05-10T08:10:14.759286Z",
          "shell.execute_reply": "2022-05-10T08:10:14.758361Z"
        },
        "papermill": {
          "duration": 1.758154,
          "end_time": "2022-05-10T08:10:14.762323",
          "exception": false,
          "start_time": "2022-05-10T08:10:13.004169",
          "status": "completed"
        },
        "tags": [],
        "colab": {
          "base_uri": "https://localhost:8080/"
        },
        "id": "73bd0ca5",
        "outputId": "f3bac6e6-4982-4ed6-9e83-6353b1fa02c6"
      },
      "outputs": [
        {
          "output_type": "stream",
          "name": "stdout",
          "text": [
            "(17519, 1)\n",
            "(17519,)\n"
          ]
        }
      ],
      "source": [
        "testPredict = model.predict(test_X)\n",
        "print(testPredict.shape)\n",
        "testPredict = testPredict.ravel()\n",
        "\n",
        "print(testPredict.shape)"
      ]
    },
    {
      "cell_type": "code",
      "execution_count": null,
      "id": "5475bbb8",
      "metadata": {
        "execution": {
          "iopub.execute_input": "2022-05-10T08:10:14.988190Z",
          "iopub.status.busy": "2022-05-10T08:10:14.987366Z",
          "iopub.status.idle": "2022-05-10T08:10:14.996353Z",
          "shell.execute_reply": "2022-05-10T08:10:14.995579Z"
        },
        "papermill": {
          "duration": 0.126307,
          "end_time": "2022-05-10T08:10:14.998430",
          "exception": false,
          "start_time": "2022-05-10T08:10:14.872123",
          "status": "completed"
        },
        "tags": [],
        "colab": {
          "base_uri": "https://localhost:8080/"
        },
        "id": "5475bbb8",
        "outputId": "b2097ac6-e8b0-4bc3-ec3d-62a55b1fe13f"
      },
      "outputs": [
        {
          "output_type": "execute_result",
          "data": {
            "text/plain": [
              "(17519, 9)"
            ]
          },
          "metadata": {},
          "execution_count": 29
        }
      ],
      "source": [
        "test.shape"
      ]
    },
    {
      "cell_type": "code",
      "execution_count": null,
      "id": "56029a22",
      "metadata": {
        "execution": {
          "iopub.execute_input": "2022-05-10T08:10:15.198192Z",
          "iopub.status.busy": "2022-05-10T08:10:15.197907Z",
          "iopub.status.idle": "2022-05-10T08:10:15.205684Z",
          "shell.execute_reply": "2022-05-10T08:10:15.204810Z"
        },
        "papermill": {
          "duration": 0.108852,
          "end_time": "2022-05-10T08:10:15.209727",
          "exception": false,
          "start_time": "2022-05-10T08:10:15.100875",
          "status": "completed"
        },
        "tags": [],
        "colab": {
          "base_uri": "https://localhost:8080/"
        },
        "id": "56029a22",
        "outputId": "46e2c89c-9a53-4db3-da40-f7e8700cc075"
      },
      "outputs": [
        {
          "output_type": "stream",
          "name": "stdout",
          "text": [
            "[[0.03521127 0.44117647 0.22950819 ... 0.         0.6666666  0.03118712]\n",
            " [0.03118712 0.4264706  0.1967213  ... 0.         0.6666666  0.03219316]\n",
            " [0.03219316 0.4264706  0.1967213  ... 0.         0.6666666  0.02112676]\n",
            " ...\n",
            " [0.01006036 0.2647059  0.26229507 ... 0.         0.6666666  0.01006036]\n",
            " [0.01006036 0.2647059  0.26229507 ... 0.         0.6666666  0.00804829]\n",
            " [0.00804829 0.2647059  0.24590163 ... 0.         0.6666666  0.01207243]]\n",
            "(17519, 9)\n"
          ]
        },
        {
          "output_type": "execute_result",
          "data": {
            "text/plain": [
              "(None, None)"
            ]
          },
          "metadata": {},
          "execution_count": 30
        }
      ],
      "source": [
        "print(test), print(test.shape)"
      ]
    },
    {
      "cell_type": "code",
      "execution_count": null,
      "id": "be0a3328",
      "metadata": {
        "execution": {
          "iopub.execute_input": "2022-05-10T08:10:15.408219Z",
          "iopub.status.busy": "2022-05-10T08:10:15.407543Z",
          "iopub.status.idle": "2022-05-10T08:10:15.412488Z",
          "shell.execute_reply": "2022-05-10T08:10:15.411880Z"
        },
        "papermill": {
          "duration": 0.104376,
          "end_time": "2022-05-10T08:10:15.414210",
          "exception": false,
          "start_time": "2022-05-10T08:10:15.309834",
          "status": "completed"
        },
        "tags": [],
        "id": "be0a3328"
      },
      "outputs": [],
      "source": [
        "y_test_true = test[:,8]"
      ]
    },
    {
      "cell_type": "code",
      "execution_count": null,
      "id": "69cd8cc2",
      "metadata": {
        "execution": {
          "iopub.execute_input": "2022-05-10T08:10:15.620373Z",
          "iopub.status.busy": "2022-05-10T08:10:15.620104Z",
          "iopub.status.idle": "2022-05-10T08:10:15.626336Z",
          "shell.execute_reply": "2022-05-10T08:10:15.625596Z"
        },
        "papermill": {
          "duration": 0.117421,
          "end_time": "2022-05-10T08:10:15.628291",
          "exception": false,
          "start_time": "2022-05-10T08:10:15.510870",
          "status": "completed"
        },
        "tags": [],
        "id": "69cd8cc2"
      },
      "outputs": [],
      "source": [
        "poll = np.array(df[\"pollution\"])\n",
        "\n",
        "meanop = poll.mean()\n",
        "stdop = poll.std()\n",
        "\n",
        "y_test_true = y_test_true*stdop + meanop\n",
        "testPredict = testPredict*stdop + meanop"
      ]
    },
    {
      "cell_type": "code",
      "execution_count": null,
      "id": "ed408c8b",
      "metadata": {
        "execution": {
          "iopub.execute_input": "2022-05-10T08:10:15.849207Z",
          "iopub.status.busy": "2022-05-10T08:10:15.848951Z",
          "iopub.status.idle": "2022-05-10T08:10:16.045067Z",
          "shell.execute_reply": "2022-05-10T08:10:16.043268Z"
        },
        "papermill": {
          "duration": 0.308409,
          "end_time": "2022-05-10T08:10:16.047010",
          "exception": false,
          "start_time": "2022-05-10T08:10:15.738601",
          "status": "completed"
        },
        "tags": [],
        "colab": {
          "base_uri": "https://localhost:8080/",
          "height": 404
        },
        "id": "ed408c8b",
        "outputId": "1f18f853-c5bf-4938-b091-b24f6a67b1be"
      },
      "outputs": [
        {
          "output_type": "display_data",
          "data": {
            "text/plain": [
              "<Figure size 1080x432 with 1 Axes>"
            ],
            "image/png": "[encoded data removed]"
          },
          "metadata": {
            "needs_background": "light"
          }
        }
      ],
      "source": [
        "from matplotlib import pyplot as plt\n",
        "\n",
        "plt.figure(figsize=(15,6))\n",
        "plt.xlim([1000,1250])\n",
        "plt.ylabel(\"ppm\")\n",
        "plt.xlabel(\"hrs\")\n",
        "plt.plot(y_test_true, c = \"orange\", alpha = 0.90, linewidth = 2.5)\n",
        "plt.plot(testPredict, c = \"blue\", alpha = 0.75)\n",
        "plt.legend([\"Testing\",\"Validation\"])\n",
        "plt.title(\"Testing And Validation data\")\n",
        "plt.show()\n",
        "\n",
        "# testTrue = scaler.inverse_transform([testY]).ravel()"
      ]
    },
    {
      "cell_type": "code",
      "execution_count": null,
      "id": "fbb34cce",
      "metadata": {
        "execution": {
          "iopub.execute_input": "2022-05-10T08:10:16.263496Z",
          "iopub.status.busy": "2022-05-10T08:10:16.262921Z",
          "iopub.status.idle": "2022-05-10T08:10:16.270065Z",
          "shell.execute_reply": "2022-05-10T08:10:16.269236Z"
        },
        "papermill": {
          "duration": 0.116719,
          "end_time": "2022-05-10T08:10:16.271864",
          "exception": false,
          "start_time": "2022-05-10T08:10:16.155145",
          "status": "completed"
        },
        "tags": [],
        "colab": {
          "base_uri": "https://localhost:8080/"
        },
        "id": "fbb34cce",
        "outputId": "b5851fe2-247d-4c08-cb0e-e21bfb1601f3"
      },
      "outputs": [
        {
          "output_type": "stream",
          "name": "stdout",
          "text": [
            "Test(Validation) RMSE = 2.5857236\n"
          ]
        }
      ],
      "source": [
        "rmse = np.sqrt(mean_squared_error(y_test_true, testPredict))\n",
        "print(\"Test(Validation) RMSE =\",rmse)\n",
        "\n",
        "# As we see the,  RMSE for testing data is low, and visually as well, from the above plots, we can see that the basic model is able to\n",
        "# predict the future values of pollution (in ppm) pretty well"
      ]
    },
    {
      "cell_type": "markdown",
      "id": "f4180469",
      "metadata": {
        "papermill": {
          "duration": 0.106071,
          "end_time": "2022-05-10T08:10:16.485591",
          "exception": false,
          "start_time": "2022-05-10T08:10:16.379520",
          "status": "completed"
        },
        "tags": [],
        "id": "f4180469"
      },
      "source": [
        "### Creating another model, with more LSTM units and an extra dense layer to fine tune the parameters "
      ]
    },
    {
      "cell_type": "code",
      "execution_count": null,
      "id": "8e968dc5",
      "metadata": {
        "execution": {
          "iopub.execute_input": "2022-05-10T08:10:16.700174Z",
          "iopub.status.busy": "2022-05-10T08:10:16.699886Z",
          "iopub.status.idle": "2022-05-10T08:10:16.953131Z",
          "shell.execute_reply": "2022-05-10T08:10:16.952324Z"
        },
        "papermill": {
          "duration": 0.366105,
          "end_time": "2022-05-10T08:10:16.955003",
          "exception": false,
          "start_time": "2022-05-10T08:10:16.588898",
          "status": "completed"
        },
        "tags": [],
        "colab": {
          "base_uri": "https://localhost:8080/"
        },
        "id": "8e968dc5",
        "outputId": "71fe0b8e-c226-45c4-aa32-639bb578fb5b"
      },
      "outputs": [
        {
          "output_type": "stream",
          "name": "stdout",
          "text": [
            "Model: \"sequential_1\"\n",
            "_________________________________________________________________\n",
            " Layer (type)                Output Shape              Param #   \n",
            "=================================================================\n",
            " lstm_1 (LSTM)               (None, 256)               271360    \n",
            "                                                                 \n",
            " dense_1 (Dense)             (None, 64)                16448     \n",
            "                                                                 \n",
            " dropout (Dropout)           (None, 64)                0         \n",
            "                                                                 \n",
            " batch_normalization (BatchN  (None, 64)               256       \n",
            " ormalization)                                                   \n",
            "                                                                 \n",
            " dense_2 (Dense)             (None, 1)                 65        \n",
            "                                                                 \n",
            "=================================================================\n",
            "Total params: 288,129\n",
            "Trainable params: 288,001\n",
            "Non-trainable params: 128\n",
            "_________________________________________________________________\n"
          ]
        }
      ],
      "source": [
        "model2 = Sequential()\n",
        "model2.add(LSTM(256, input_shape=(train_X.shape[1], train_X.shape[2])))\n",
        "model2.add(Dense(64))\n",
        "model2.add(Dropout(0.25))\n",
        "model2.add(BatchNormalization())\n",
        "model2.add(Dense(1))\n",
        "model2.summary()"
      ]
    },
    {
      "cell_type": "code",
      "execution_count": null,
      "id": "fc14091b",
      "metadata": {
        "execution": {
          "iopub.execute_input": "2022-05-10T08:10:17.156262Z",
          "iopub.status.busy": "2022-05-10T08:10:17.155740Z",
          "iopub.status.idle": "2022-05-10T08:11:08.902503Z",
          "shell.execute_reply": "2022-05-10T08:11:08.901782Z"
        },
        "papermill": {
          "duration": 51.849213,
          "end_time": "2022-05-10T08:11:08.904443",
          "exception": false,
          "start_time": "2022-05-10T08:10:17.055230",
          "status": "completed"
        },
        "tags": [],
        "colab": {
          "base_uri": "https://localhost:8080/"
        },
        "id": "fc14091b",
        "outputId": "adc01631-42d5-4343-a332-7b1770179af8"
      },
      "outputs": [
        {
          "output_type": "stream",
          "name": "stdout",
          "text": [
            "Epoch 1/50\n",
            "206/206 [==============================] - 5s 14ms/step - loss: 0.0121 - val_loss: 0.0080\n",
            "Epoch 2/50\n",
            "206/206 [==============================] - 3s 16ms/step - loss: 0.0016 - val_loss: 0.0059\n",
            "Epoch 3/50\n",
            "206/206 [==============================] - 2s 11ms/step - loss: 0.0015 - val_loss: 0.0023\n",
            "Epoch 4/50\n",
            "206/206 [==============================] - 2s 11ms/step - loss: 0.0015 - val_loss: 0.0013\n",
            "Epoch 5/50\n",
            "206/206 [==============================] - 2s 11ms/step - loss: 0.0014 - val_loss: 0.0019\n",
            "Epoch 6/50\n",
            "206/206 [==============================] - 2s 12ms/step - loss: 0.0015 - val_loss: 0.0039\n",
            "Epoch 7/50\n",
            "206/206 [==============================] - 3s 14ms/step - loss: 0.0014 - val_loss: 0.0029\n",
            "Epoch 8/50\n",
            "206/206 [==============================] - 2s 11ms/step - loss: 0.0012 - val_loss: 7.1462e-04\n",
            "Epoch 9/50\n",
            "206/206 [==============================] - 2s 11ms/step - loss: 0.0013 - val_loss: 7.8679e-04\n",
            "Epoch 10/50\n",
            "206/206 [==============================] - 2s 11ms/step - loss: 0.0012 - val_loss: 0.0011\n",
            "Epoch 11/50\n",
            "206/206 [==============================] - 2s 11ms/step - loss: 0.0012 - val_loss: 0.0015\n",
            "Epoch 12/50\n",
            "206/206 [==============================] - 2s 11ms/step - loss: 0.0012 - val_loss: 8.4927e-04\n",
            "Epoch 13/50\n",
            "206/206 [==============================] - 2s 11ms/step - loss: 0.0011 - val_loss: 8.4847e-04\n",
            "Epoch 14/50\n",
            "206/206 [==============================] - 2s 11ms/step - loss: 0.0011 - val_loss: 0.0019\n",
            "Epoch 15/50\n",
            "206/206 [==============================] - 2s 11ms/step - loss: 0.0011 - val_loss: 9.1000e-04\n",
            "Epoch 16/50\n",
            "206/206 [==============================] - 2s 12ms/step - loss: 0.0010 - val_loss: 7.6878e-04\n",
            "Epoch 17/50\n",
            "206/206 [==============================] - 2s 11ms/step - loss: 0.0010 - val_loss: 9.2799e-04\n",
            "Epoch 18/50\n",
            "206/206 [==============================] - 2s 11ms/step - loss: 9.9136e-04 - val_loss: 8.5029e-04\n",
            "Epoch 19/50\n",
            "206/206 [==============================] - 2s 11ms/step - loss: 9.8292e-04 - val_loss: 8.1897e-04\n",
            "Epoch 20/50\n",
            "206/206 [==============================] - 2s 11ms/step - loss: 9.4948e-04 - val_loss: 7.1991e-04\n",
            "Epoch 21/50\n",
            "206/206 [==============================] - 2s 11ms/step - loss: 9.5349e-04 - val_loss: 8.8363e-04\n",
            "Epoch 22/50\n",
            "206/206 [==============================] - 2s 11ms/step - loss: 9.4313e-04 - val_loss: 7.3351e-04\n",
            "Epoch 23/50\n",
            "206/206 [==============================] - 2s 11ms/step - loss: 9.3968e-04 - val_loss: 7.1387e-04\n",
            "Epoch 24/50\n",
            "206/206 [==============================] - 2s 11ms/step - loss: 9.5251e-04 - val_loss: 7.0986e-04\n",
            "Epoch 25/50\n",
            "206/206 [==============================] - 2s 11ms/step - loss: 9.1915e-04 - val_loss: 7.2078e-04\n",
            "Epoch 26/50\n",
            "206/206 [==============================] - 2s 11ms/step - loss: 9.3320e-04 - val_loss: 7.5120e-04\n",
            "Epoch 27/50\n",
            "206/206 [==============================] - 2s 11ms/step - loss: 8.9219e-04 - val_loss: 7.1629e-04\n",
            "Epoch 28/50\n",
            "206/206 [==============================] - 2s 11ms/step - loss: 9.4216e-04 - val_loss: 8.2011e-04\n",
            "Epoch 29/50\n",
            "206/206 [==============================] - 2s 11ms/step - loss: 9.4297e-04 - val_loss: 7.0157e-04\n",
            "Epoch 30/50\n",
            "206/206 [==============================] - 2s 11ms/step - loss: 9.0700e-04 - val_loss: 8.4465e-04\n",
            "Epoch 31/50\n",
            "206/206 [==============================] - 2s 12ms/step - loss: 8.9456e-04 - val_loss: 9.1329e-04\n",
            "Epoch 32/50\n",
            "206/206 [==============================] - 2s 11ms/step - loss: 9.7256e-04 - val_loss: 9.5352e-04\n",
            "Epoch 33/50\n",
            "206/206 [==============================] - 2s 11ms/step - loss: 9.2122e-04 - val_loss: 7.3013e-04\n",
            "Epoch 34/50\n",
            "206/206 [==============================] - 2s 11ms/step - loss: 9.0071e-04 - val_loss: 9.8723e-04\n",
            "Epoch 35/50\n",
            "206/206 [==============================] - 2s 11ms/step - loss: 9.3610e-04 - val_loss: 9.8891e-04\n",
            "Epoch 36/50\n",
            "206/206 [==============================] - 2s 11ms/step - loss: 9.1568e-04 - val_loss: 7.2672e-04\n",
            "Epoch 37/50\n",
            "206/206 [==============================] - 3s 12ms/step - loss: 9.3151e-04 - val_loss: 7.1100e-04\n",
            "Epoch 38/50\n",
            "206/206 [==============================] - 3s 14ms/step - loss: 9.0341e-04 - val_loss: 7.9598e-04\n",
            "Epoch 39/50\n",
            "206/206 [==============================] - 2s 11ms/step - loss: 9.1833e-04 - val_loss: 7.2714e-04\n",
            "Epoch 40/50\n",
            "206/206 [==============================] - 2s 11ms/step - loss: 9.0074e-04 - val_loss: 7.0607e-04\n",
            "Epoch 41/50\n",
            "206/206 [==============================] - 2s 11ms/step - loss: 9.0017e-04 - val_loss: 9.5556e-04\n",
            "Epoch 42/50\n",
            "206/206 [==============================] - 2s 11ms/step - loss: 9.2121e-04 - val_loss: 7.4904e-04\n",
            "Epoch 43/50\n",
            "206/206 [==============================] - 2s 11ms/step - loss: 9.2247e-04 - val_loss: 7.3646e-04\n",
            "Epoch 44/50\n",
            "206/206 [==============================] - 2s 11ms/step - loss: 9.0720e-04 - val_loss: 8.3410e-04\n",
            "Epoch 45/50\n",
            "206/206 [==============================] - 2s 11ms/step - loss: 9.3792e-04 - val_loss: 8.0047e-04\n",
            "Epoch 46/50\n",
            "206/206 [==============================] - 2s 11ms/step - loss: 9.2579e-04 - val_loss: 7.8199e-04\n",
            "Epoch 47/50\n",
            "206/206 [==============================] - 2s 11ms/step - loss: 9.0314e-04 - val_loss: 8.5495e-04\n",
            "Epoch 48/50\n",
            "206/206 [==============================] - 2s 11ms/step - loss: 9.1567e-04 - val_loss: 9.8792e-04\n",
            "Epoch 49/50\n",
            "206/206 [==============================] - 2s 11ms/step - loss: 9.3900e-04 - val_loss: 7.3701e-04\n",
            "Epoch 50/50\n",
            "206/206 [==============================] - 2s 11ms/step - loss: 9.1525e-04 - val_loss: 7.0683e-04\n"
          ]
        }
      ],
      "source": [
        "model2.compile(loss='mse', optimizer='adam')\n",
        "\n",
        "hist2 = model2.fit(train_X, train_y, epochs=50, batch_size=128, validation_data=(test_X, test_y))"
      ]
    },
    {
      "cell_type": "code",
      "execution_count": null,
      "id": "2460f493",
      "metadata": {
        "execution": {
          "iopub.execute_input": "2022-05-10T08:11:09.589737Z",
          "iopub.status.busy": "2022-05-10T08:11:09.588169Z",
          "iopub.status.idle": "2022-05-10T08:11:09.810111Z",
          "shell.execute_reply": "2022-05-10T08:11:09.809374Z"
        },
        "papermill": {
          "duration": 0.571166,
          "end_time": "2022-05-10T08:11:09.812288",
          "exception": false,
          "start_time": "2022-05-10T08:11:09.241122",
          "status": "completed"
        },
        "tags": [],
        "colab": {
          "base_uri": "https://localhost:8080/",
          "height": 374
        },
        "id": "2460f493",
        "outputId": "60752e30-8a78-4b50-c1d8-f2c4d3d1677d"
      },
      "outputs": [
        {
          "output_type": "display_data",
          "data": {
            "text/plain": [
              "<Figure size 1080x432 with 1 Axes>"
            ],
            "image/png": "[encoded data removed]"
          },
          "metadata": {
            "needs_background": "light"
          }
        }
      ],
      "source": [
        "plt.figure(figsize=(15,6))\n",
        "plt.plot(hist2.history['loss'], label='train', linewidth = 2.5)\n",
        "plt.plot(hist2.history['val_loss'], label='test',  linewidth = 2.5)\n",
        "plt.legend()\n",
        "plt.show()"
      ]
    },
    {
      "cell_type": "code",
      "execution_count": null,
      "id": "2f414fdd",
      "metadata": {
        "execution": {
          "iopub.execute_input": "2022-05-10T08:11:10.542839Z",
          "iopub.status.busy": "2022-05-10T08:11:10.542579Z",
          "iopub.status.idle": "2022-05-10T08:11:10.546544Z",
          "shell.execute_reply": "2022-05-10T08:11:10.545766Z"
        },
        "papermill": {
          "duration": 0.372216,
          "end_time": "2022-05-10T08:11:10.548432",
          "exception": false,
          "start_time": "2022-05-10T08:11:10.176216",
          "status": "completed"
        },
        "tags": [],
        "id": "2f414fdd"
      },
      "outputs": [],
      "source": [
        "y_test_true = test[:,8]"
      ]
    },
    {
      "cell_type": "code",
      "execution_count": null,
      "id": "36ddcc00",
      "metadata": {
        "execution": {
          "iopub.execute_input": "2022-05-10T08:11:11.313427Z",
          "iopub.status.busy": "2022-05-10T08:11:11.313143Z",
          "iopub.status.idle": "2022-05-10T08:11:12.898055Z",
          "shell.execute_reply": "2022-05-10T08:11:12.896131Z"
        },
        "papermill": {
          "duration": 1.971511,
          "end_time": "2022-05-10T08:11:12.900176",
          "exception": false,
          "start_time": "2022-05-10T08:11:10.928665",
          "status": "completed"
        },
        "tags": [],
        "colab": {
          "base_uri": "https://localhost:8080/"
        },
        "id": "36ddcc00",
        "outputId": "19f61823-9414-427b-8a01-c5ac95f7b1b4"
      },
      "outputs": [
        {
          "output_type": "stream",
          "name": "stdout",
          "text": [
            "94.01351598173515 92.25122315439845\n"
          ]
        }
      ],
      "source": [
        "testPredict2 = model2.predict(test_X)\n",
        "testPredict2 = testPredict2.ravel()\n",
        "\n",
        "# Inverse scaling the output, for better visual interpretation \n",
        "\n",
        "poll = np.array(df[\"pollution\"])\n",
        "meanop = poll.mean()\n",
        "stdop = poll.std()\n",
        "\n",
        "print(meanop, stdop)\n",
        "\n",
        "y_test_true = y_test_true*stdop + meanop\n",
        "testPredict2 = testPredict2*stdop + meanop"
      ]
    },
    {
      "cell_type": "code",
      "execution_count": null,
      "id": "8dd2b3a9",
      "metadata": {
        "execution": {
          "iopub.execute_input": "2022-05-10T08:11:13.673328Z",
          "iopub.status.busy": "2022-05-10T08:11:13.673043Z",
          "iopub.status.idle": "2022-05-10T08:11:13.872295Z",
          "shell.execute_reply": "2022-05-10T08:11:13.871484Z"
        },
        "papermill": {
          "duration": 0.588312,
          "end_time": "2022-05-10T08:11:13.874408",
          "exception": false,
          "start_time": "2022-05-10T08:11:13.286096",
          "status": "completed"
        },
        "tags": [],
        "colab": {
          "base_uri": "https://localhost:8080/",
          "height": 404
        },
        "id": "8dd2b3a9",
        "outputId": "bb228aee-e0ce-42bc-dc17-f939c0f4f6dd"
      },
      "outputs": [
        {
          "output_type": "display_data",
          "data": {
            "text/plain": [
              "<Figure size 1080x432 with 1 Axes>"
            ],
            "image/png": "[encoded data removed]"
          },
          "metadata": {
            "needs_background": "light"
          }
        }
      ],
      "source": [
        "from matplotlib import pyplot as plt\n",
        "\n",
        "plt.figure(figsize=(15,6))\n",
        "plt.xlim([1000,1250])\n",
        "plt.ylabel(\"ppm\")\n",
        "plt.xlabel(\"hrs\")\n",
        "plt.plot(y_test_true, c = \"orange\", alpha = 0.90, linewidth = 2.5)\n",
        "plt.plot(testPredict2, c = \"darkblue\", alpha = 0.75)\n",
        "plt.title(\"Testing and Validation data\")\n",
        "plt.show()"
      ]
    },
    {
      "cell_type": "code",
      "execution_count": null,
      "id": "c5830243",
      "metadata": {
        "execution": {
          "iopub.execute_input": "2022-05-10T08:11:14.651338Z",
          "iopub.status.busy": "2022-05-10T08:11:14.651035Z",
          "iopub.status.idle": "2022-05-10T08:11:14.657120Z",
          "shell.execute_reply": "2022-05-10T08:11:14.656432Z"
        },
        "papermill": {
          "duration": 0.400053,
          "end_time": "2022-05-10T08:11:14.659297",
          "exception": false,
          "start_time": "2022-05-10T08:11:14.259244",
          "status": "completed"
        },
        "tags": [],
        "colab": {
          "base_uri": "https://localhost:8080/"
        },
        "id": "c5830243",
        "outputId": "1e06c0fc-c88c-4701-fa3a-6e0339969e85"
      },
      "outputs": [
        {
          "output_type": "stream",
          "name": "stdout",
          "text": [
            "Test and Validation RMSE = 2.4526236\n"
          ]
        }
      ],
      "source": [
        "rmse = np.sqrt(mean_squared_error(y_test_true, testPredict2))\n",
        "print(\"Test and Validation RMSE =\"  ,rmse)"
      ]
    },
    {
      "cell_type": "markdown",
      "id": "99cc4afe",
      "metadata": {
        "papermill": {
          "duration": 0.339002,
          "end_time": "2022-05-10T08:11:15.364909",
          "exception": false,
          "start_time": "2022-05-10T08:11:15.025907",
          "status": "completed"
        },
        "tags": [],
        "id": "99cc4afe"
      },
      "source": [
        " "
      ]
    },
    {
      "cell_type": "markdown",
      "id": "8f428812",
      "metadata": {
        "papermill": {
          "duration": 0.571369,
          "end_time": "2022-05-10T08:11:16.502588",
          "exception": false,
          "start_time": "2022-05-10T08:11:15.931219",
          "status": "completed"
        },
        "tags": [],
        "id": "8f428812"
      },
      "source": [
        "# Training on the complete training dataset and testing on the test dataset given"
      ]
    },
    {
      "cell_type": "code",
      "execution_count": null,
      "id": "d4fca1e8",
      "metadata": {
        "execution": {
          "iopub.execute_input": "2022-05-10T08:11:17.276570Z",
          "iopub.status.busy": "2022-05-10T08:11:17.276299Z",
          "iopub.status.idle": "2022-05-10T08:11:17.281481Z",
          "shell.execute_reply": "2022-05-10T08:11:17.280835Z"
        },
        "papermill": {
          "duration": 0.347461,
          "end_time": "2022-05-10T08:11:17.283791",
          "exception": false,
          "start_time": "2022-05-10T08:11:16.936330",
          "status": "completed"
        },
        "tags": [],
        "colab": {
          "base_uri": "https://localhost:8080/"
        },
        "id": "d4fca1e8",
        "outputId": "a79ffd22-3a90-43f8-beb1-b5ecceeb14e6"
      },
      "outputs": [
        {
          "output_type": "execute_result",
          "data": {
            "text/plain": [
              "(43799, 9)"
            ]
          },
          "metadata": {},
          "execution_count": 42
        }
      ],
      "source": [
        "values.shape"
      ]
    },
    {
      "cell_type": "code",
      "execution_count": null,
      "id": "9a21ad19",
      "metadata": {
        "execution": {
          "iopub.execute_input": "2022-05-10T08:11:17.962752Z",
          "iopub.status.busy": "2022-05-10T08:11:17.962480Z",
          "iopub.status.idle": "2022-05-10T08:11:17.970043Z",
          "shell.execute_reply": "2022-05-10T08:11:17.969244Z"
        },
        "papermill": {
          "duration": 0.348767,
          "end_time": "2022-05-10T08:11:17.971973",
          "exception": false,
          "start_time": "2022-05-10T08:11:17.623206",
          "status": "completed"
        },
        "tags": [],
        "colab": {
          "base_uri": "https://localhost:8080/"
        },
        "id": "9a21ad19",
        "outputId": "3f9132fa-c51d-4dfa-f811-e8b7f09bca26"
      },
      "outputs": [
        {
          "output_type": "execute_result",
          "data": {
            "text/plain": [
              "array([[0.12977867, 0.35294122, 0.24590163, ..., 0.        , 0.        ,\n",
              "        0.14889336],\n",
              "       [0.14889336, 0.36764708, 0.24590163, ..., 0.        , 0.        ,\n",
              "        0.15995975],\n",
              "       [0.15995975, 0.4264706 , 0.22950819, ..., 0.        , 0.        ,\n",
              "        0.18209255],\n",
              "       ...,\n",
              "       [0.01006036, 0.2647059 , 0.26229507, ..., 0.        , 0.6666666 ,\n",
              "        0.01006036],\n",
              "       [0.01006036, 0.2647059 , 0.26229507, ..., 0.        , 0.6666666 ,\n",
              "        0.00804829],\n",
              "       [0.00804829, 0.2647059 , 0.24590163, ..., 0.        , 0.6666666 ,\n",
              "        0.01207243]], dtype=float32)"
            ]
          },
          "metadata": {},
          "execution_count": 43
        }
      ],
      "source": [
        "values"
      ]
    },
    {
      "cell_type": "code",
      "execution_count": null,
      "id": "7541d34a",
      "metadata": {
        "execution": {
          "iopub.execute_input": "2022-05-10T08:11:18.659539Z",
          "iopub.status.busy": "2022-05-10T08:11:18.659291Z",
          "iopub.status.idle": "2022-05-10T08:11:18.664070Z",
          "shell.execute_reply": "2022-05-10T08:11:18.663382Z"
        },
        "papermill": {
          "duration": 0.350572,
          "end_time": "2022-05-10T08:11:18.666246",
          "exception": false,
          "start_time": "2022-05-10T08:11:18.315674",
          "status": "completed"
        },
        "tags": [],
        "colab": {
          "base_uri": "https://localhost:8080/"
        },
        "id": "7541d34a",
        "outputId": "94666076-9984-4dc5-84d2-97767820a7ee"
      },
      "outputs": [
        {
          "output_type": "stream",
          "name": "stdout",
          "text": [
            "(43799, 8) (43799,)\n"
          ]
        }
      ],
      "source": [
        "train_x, train_y = values[:, :-1], values[:, -1]\n",
        "print(train_x.shape, train_y.shape)"
      ]
    },
    {
      "cell_type": "code",
      "execution_count": null,
      "id": "14f073f6",
      "metadata": {
        "execution": {
          "iopub.execute_input": "2022-05-10T08:11:19.351231Z",
          "iopub.status.busy": "2022-05-10T08:11:19.350975Z",
          "iopub.status.idle": "2022-05-10T08:11:19.355148Z",
          "shell.execute_reply": "2022-05-10T08:11:19.354245Z"
        },
        "papermill": {
          "duration": 0.347196,
          "end_time": "2022-05-10T08:11:19.357123",
          "exception": false,
          "start_time": "2022-05-10T08:11:19.009927",
          "status": "completed"
        },
        "tags": [],
        "id": "14f073f6"
      },
      "outputs": [],
      "source": [
        "train_x = train_x.reshape((train_x.shape[0], 1, train_x.shape[1]))"
      ]
    },
    {
      "cell_type": "code",
      "execution_count": null,
      "id": "40944228",
      "metadata": {
        "execution": {
          "iopub.execute_input": "2022-05-10T08:11:20.313339Z",
          "iopub.status.busy": "2022-05-10T08:11:20.313093Z",
          "iopub.status.idle": "2022-05-10T08:11:20.551241Z",
          "shell.execute_reply": "2022-05-10T08:11:20.550428Z"
        },
        "papermill": {
          "duration": 0.591063,
          "end_time": "2022-05-10T08:11:20.553528",
          "exception": false,
          "start_time": "2022-05-10T08:11:19.962465",
          "status": "completed"
        },
        "tags": [],
        "colab": {
          "base_uri": "https://localhost:8080/"
        },
        "id": "40944228",
        "outputId": "71b53de2-231d-4fd4-cdf4-38b470146588"
      },
      "outputs": [
        {
          "output_type": "stream",
          "name": "stdout",
          "text": [
            "Model: \"sequential_2\"\n",
            "_________________________________________________________________\n",
            " Layer (type)                Output Shape              Param #   \n",
            "=================================================================\n",
            " lstm_2 (LSTM)               (None, 256)               271360    \n",
            "                                                                 \n",
            " dense_3 (Dense)             (None, 32)                8224      \n",
            "                                                                 \n",
            " dropout_1 (Dropout)         (None, 32)                0         \n",
            "                                                                 \n",
            " batch_normalization_1 (Batc  (None, 32)               128       \n",
            " hNormalization)                                                 \n",
            "                                                                 \n",
            " dense_4 (Dense)             (None, 1)                 33        \n",
            "                                                                 \n",
            "=================================================================\n",
            "Total params: 279,745\n",
            "Trainable params: 279,681\n",
            "Non-trainable params: 64\n",
            "_________________________________________________________________\n"
          ]
        }
      ],
      "source": [
        "model3 = Sequential()\n",
        "model3.add(LSTM(256, input_shape=(train_x.shape[1], train_x.shape[2])))\n",
        "model3.add(Dense(32))\n",
        "model3.add(Dropout(0.25))\n",
        "model3.add(BatchNormalization())\n",
        "model3.add(Dense(1))\n",
        "\n",
        "model3.summary()"
      ]
    },
    {
      "cell_type": "code",
      "execution_count": null,
      "id": "a68f61b8",
      "metadata": {
        "execution": {
          "iopub.execute_input": "2022-05-10T08:11:21.255378Z",
          "iopub.status.busy": "2022-05-10T08:11:21.255114Z",
          "iopub.status.idle": "2022-05-10T08:11:51.284452Z",
          "shell.execute_reply": "2022-05-10T08:11:51.283617Z"
        },
        "papermill": {
          "duration": 30.928614,
          "end_time": "2022-05-10T08:11:51.838812",
          "exception": false,
          "start_time": "2022-05-10T08:11:20.910198",
          "status": "completed"
        },
        "tags": [],
        "colab": {
          "base_uri": "https://localhost:8080/"
        },
        "id": "a68f61b8",
        "outputId": "be771857-fada-4617-e59e-63bc365221a7"
      },
      "outputs": [
        {
          "output_type": "stream",
          "name": "stdout",
          "text": [
            "Epoch 1/50\n",
            "137/137 [==============================] - 5s 18ms/step - loss: 0.0071 - val_loss: 0.0079\n",
            "Epoch 2/50\n",
            "137/137 [==============================] - 2s 15ms/step - loss: 0.0013 - val_loss: 0.0070\n",
            "Epoch 3/50\n",
            "137/137 [==============================] - 2s 15ms/step - loss: 0.0013 - val_loss: 0.0052\n",
            "Epoch 4/50\n",
            "137/137 [==============================] - 2s 14ms/step - loss: 0.0013 - val_loss: 0.0035\n",
            "Epoch 5/50\n",
            "137/137 [==============================] - 2s 15ms/step - loss: 0.0013 - val_loss: 0.0015\n",
            "Epoch 6/50\n",
            "137/137 [==============================] - 2s 14ms/step - loss: 0.0012 - val_loss: 8.5071e-04\n",
            "Epoch 7/50\n",
            "137/137 [==============================] - 2s 14ms/step - loss: 0.0012 - val_loss: 7.9271e-04\n",
            "Epoch 8/50\n",
            "137/137 [==============================] - 2s 15ms/step - loss: 0.0012 - val_loss: 7.1614e-04\n",
            "Epoch 9/50\n",
            "137/137 [==============================] - 2s 15ms/step - loss: 0.0012 - val_loss: 7.3839e-04\n",
            "Epoch 10/50\n",
            "137/137 [==============================] - 2s 15ms/step - loss: 0.0012 - val_loss: 7.2634e-04\n",
            "Epoch 11/50\n",
            "137/137 [==============================] - 2s 15ms/step - loss: 0.0011 - val_loss: 0.0012\n",
            "Epoch 12/50\n",
            "137/137 [==============================] - 2s 14ms/step - loss: 0.0011 - val_loss: 6.4685e-04\n",
            "Epoch 13/50\n",
            "137/137 [==============================] - 2s 15ms/step - loss: 0.0011 - val_loss: 0.0016\n",
            "Epoch 14/50\n",
            "137/137 [==============================] - 2s 15ms/step - loss: 0.0011 - val_loss: 6.6704e-04\n",
            "Epoch 15/50\n",
            "137/137 [==============================] - 2s 14ms/step - loss: 0.0011 - val_loss: 8.5725e-04\n",
            "Epoch 16/50\n",
            "137/137 [==============================] - 2s 14ms/step - loss: 0.0010 - val_loss: 7.9126e-04\n",
            "Epoch 17/50\n",
            "137/137 [==============================] - 2s 14ms/step - loss: 0.0010 - val_loss: 8.6407e-04\n",
            "Epoch 18/50\n",
            "137/137 [==============================] - 2s 16ms/step - loss: 9.8810e-04 - val_loss: 6.6109e-04\n",
            "Epoch 19/50\n",
            "137/137 [==============================] - 3s 20ms/step - loss: 0.0010 - val_loss: 6.3244e-04\n",
            "Epoch 20/50\n",
            "137/137 [==============================] - 2s 14ms/step - loss: 9.9675e-04 - val_loss: 6.9708e-04\n",
            "Epoch 21/50\n",
            "137/137 [==============================] - 2s 15ms/step - loss: 9.6184e-04 - val_loss: 6.6252e-04\n",
            "Epoch 22/50\n",
            "137/137 [==============================] - 2s 14ms/step - loss: 9.4953e-04 - val_loss: 7.2842e-04\n",
            "Epoch 23/50\n",
            "137/137 [==============================] - 2s 15ms/step - loss: 9.5430e-04 - val_loss: 7.8156e-04\n",
            "Epoch 24/50\n",
            "137/137 [==============================] - 2s 15ms/step - loss: 9.6626e-04 - val_loss: 7.2007e-04\n",
            "Epoch 25/50\n",
            "137/137 [==============================] - 2s 14ms/step - loss: 9.5046e-04 - val_loss: 7.6925e-04\n",
            "Epoch 26/50\n",
            "137/137 [==============================] - 2s 15ms/step - loss: 9.2402e-04 - val_loss: 6.3052e-04\n",
            "Epoch 27/50\n",
            "137/137 [==============================] - 2s 15ms/step - loss: 9.1775e-04 - val_loss: 6.6810e-04\n",
            "Epoch 28/50\n",
            "137/137 [==============================] - 3s 19ms/step - loss: 9.4810e-04 - val_loss: 7.3254e-04\n",
            "Epoch 29/50\n",
            "137/137 [==============================] - 2s 17ms/step - loss: 9.4350e-04 - val_loss: 6.2372e-04\n",
            "Epoch 30/50\n",
            "137/137 [==============================] - 2s 15ms/step - loss: 9.3051e-04 - val_loss: 7.0647e-04\n",
            "Epoch 31/50\n",
            "137/137 [==============================] - 2s 15ms/step - loss: 9.1190e-04 - val_loss: 5.9175e-04\n",
            "Epoch 32/50\n",
            "137/137 [==============================] - 2s 15ms/step - loss: 9.2351e-04 - val_loss: 7.6686e-04\n",
            "Epoch 33/50\n",
            "137/137 [==============================] - 2s 15ms/step - loss: 9.0523e-04 - val_loss: 6.0287e-04\n",
            "Epoch 34/50\n",
            "137/137 [==============================] - 2s 15ms/step - loss: 9.2922e-04 - val_loss: 6.0998e-04\n",
            "Epoch 35/50\n",
            "137/137 [==============================] - 2s 15ms/step - loss: 9.0388e-04 - val_loss: 7.4018e-04\n",
            "Epoch 36/50\n",
            "137/137 [==============================] - 2s 15ms/step - loss: 9.3638e-04 - val_loss: 6.3174e-04\n",
            "Epoch 37/50\n",
            "137/137 [==============================] - 2s 14ms/step - loss: 9.1969e-04 - val_loss: 6.3134e-04\n",
            "Epoch 38/50\n",
            "137/137 [==============================] - 2s 15ms/step - loss: 9.1422e-04 - val_loss: 6.5922e-04\n",
            "Epoch 39/50\n",
            "137/137 [==============================] - 2s 15ms/step - loss: 9.1969e-04 - val_loss: 8.7346e-04\n",
            "Epoch 40/50\n",
            "137/137 [==============================] - 2s 14ms/step - loss: 9.1496e-04 - val_loss: 6.3298e-04\n",
            "Epoch 41/50\n",
            "137/137 [==============================] - 2s 15ms/step - loss: 9.2069e-04 - val_loss: 5.9736e-04\n",
            "Epoch 42/50\n",
            "137/137 [==============================] - 2s 15ms/step - loss: 9.2945e-04 - val_loss: 6.5389e-04\n",
            "Epoch 43/50\n",
            "137/137 [==============================] - 2s 15ms/step - loss: 9.4046e-04 - val_loss: 6.0051e-04\n",
            "Epoch 44/50\n",
            "137/137 [==============================] - 2s 15ms/step - loss: 9.0525e-04 - val_loss: 6.2959e-04\n",
            "Epoch 45/50\n",
            "137/137 [==============================] - 2s 14ms/step - loss: 9.1768e-04 - val_loss: 7.7368e-04\n",
            "Epoch 46/50\n",
            "137/137 [==============================] - 2s 15ms/step - loss: 9.0806e-04 - val_loss: 5.9561e-04\n",
            "Epoch 47/50\n",
            "137/137 [==============================] - 2s 15ms/step - loss: 9.2015e-04 - val_loss: 6.3155e-04\n",
            "Epoch 48/50\n",
            "137/137 [==============================] - 2s 15ms/step - loss: 8.9565e-04 - val_loss: 5.9947e-04\n",
            "Epoch 49/50\n",
            "137/137 [==============================] - 2s 14ms/step - loss: 9.1882e-04 - val_loss: 7.0587e-04\n",
            "Epoch 50/50\n",
            "137/137 [==============================] - 2s 15ms/step - loss: 9.0306e-04 - val_loss: 6.5074e-04\n"
          ]
        }
      ],
      "source": [
        "model3.compile(loss='mse', optimizer='adam')\n",
        "\n",
        "hist3 = model3.fit(train_x, train_y, epochs=50, batch_size=256, validation_split=0.2)"
      ]
    },
    {
      "cell_type": "code",
      "execution_count": null,
      "id": "eecdeeb6",
      "metadata": {
        "execution": {
          "iopub.execute_input": "2022-05-10T08:11:53.097789Z",
          "iopub.status.busy": "2022-05-10T08:11:53.097013Z",
          "iopub.status.idle": "2022-05-10T08:11:53.282895Z",
          "shell.execute_reply": "2022-05-10T08:11:53.282235Z"
        },
        "papermill": {
          "duration": 0.933508,
          "end_time": "2022-05-10T08:11:53.284815",
          "exception": false,
          "start_time": "2022-05-10T08:11:52.351307",
          "status": "completed"
        },
        "tags": [],
        "colab": {
          "base_uri": "https://localhost:8080/"
        },
        "id": "eecdeeb6",
        "outputId": "85a8343b-8b4b-48ba-8c5e-c1e872256066"
      },
      "outputs": [
        {
          "output_type": "display_data",
          "data": {
            "text/plain": [
              "<Figure size 1080x432 with 1 Axes>"
            ],
            "image/png": "[encoded data removed]"
          },
          "metadata": {
            "needs_background": "light"
          }
        }
      ],
      "source": [
        "plt.figure(figsize=(15,6))\n",
        "plt.plot(hist3.history['loss'], label='train', linewidth = 2.5)\n",
        "plt.plot(hist3.history['val_loss'], label='test',  linewidth = 2.5)\n",
        "plt.legend()\n",
        "plt.show()"
      ]
    },
    {
      "cell_type": "code",
      "execution_count": null,
      "id": "422fcef7",
      "metadata": {
        "execution": {
          "iopub.execute_input": "2022-05-10T08:11:54.357189Z",
          "iopub.status.busy": "2022-05-10T08:11:54.356925Z",
          "iopub.status.idle": "2022-05-10T08:11:54.360649Z",
          "shell.execute_reply": "2022-05-10T08:11:54.359965Z"
        },
        "papermill": {
          "duration": 0.520507,
          "end_time": "2022-05-10T08:11:54.362410",
          "exception": false,
          "start_time": "2022-05-10T08:11:53.841903",
          "status": "completed"
        },
        "tags": [],
        "id": "422fcef7"
      },
      "outputs": [],
      "source": [
        "y_train_true = values[:,8]"
      ]
    },
    {
      "cell_type": "code",
      "execution_count": null,
      "id": "0e422f65",
      "metadata": {
        "execution": {
          "iopub.execute_input": "2022-05-10T08:11:55.429294Z",
          "iopub.status.busy": "2022-05-10T08:11:55.429040Z",
          "iopub.status.idle": "2022-05-10T08:11:57.392838Z",
          "shell.execute_reply": "2022-05-10T08:11:57.391222Z"
        },
        "papermill": {
          "duration": 2.526423,
          "end_time": "2022-05-10T08:11:57.394759",
          "exception": false,
          "start_time": "2022-05-10T08:11:54.868336",
          "status": "completed"
        },
        "tags": [],
        "colab": {
          "base_uri": "https://localhost:8080/"
        },
        "id": "0e422f65",
        "outputId": "98b0a18e-b1ca-4113-87bf-d22b8213f3f8"
      },
      "outputs": [
        {
          "output_type": "stream",
          "name": "stdout",
          "text": [
            "94.01351598173515 92.25122315439845\n"
          ]
        }
      ],
      "source": [
        "trainPredict3 = model3.predict(train_x)\n",
        "trainPredict3 = trainPredict3.ravel()\n",
        "\n",
        "# Inverse scaling the output, for better visual interpretation \n",
        "\n",
        "poll = np.array(df[\"pollution\"])\n",
        "meanop = poll.mean()\n",
        "stdop = poll.std()\n",
        "\n",
        "print(meanop, stdop)\n",
        "\n",
        "y_train_true = y_train_true*stdop + meanop\n",
        "trainPredict3 = trainPredict3*stdop + meanop"
      ]
    },
    {
      "cell_type": "code",
      "execution_count": null,
      "id": "0c461b1d",
      "metadata": {
        "execution": {
          "iopub.execute_input": "2022-05-10T08:11:58.425904Z",
          "iopub.status.busy": "2022-05-10T08:11:58.425643Z",
          "iopub.status.idle": "2022-05-10T08:11:58.683144Z",
          "shell.execute_reply": "2022-05-10T08:11:58.682436Z"
        },
        "papermill": {
          "duration": 0.780427,
          "end_time": "2022-05-10T08:11:58.685259",
          "exception": false,
          "start_time": "2022-05-10T08:11:57.904832",
          "status": "completed"
        },
        "tags": [],
        "colab": {
          "base_uri": "https://localhost:8080/"
        },
        "id": "0c461b1d",
        "outputId": "b51be8ca-79c3-4fc6-80b6-194b90aa6f21"
      },
      "outputs": [
        {
          "output_type": "display_data",
          "data": {
            "text/plain": [
              "<Figure size 1296x396 with 1 Axes>"
            ],
            "image/png": "[encoded data removed]"
          },
          "metadata": {
            "needs_background": "light"
          }
        }
      ],
      "source": [
        "from matplotlib import pyplot as plt\n",
        "\n",
        "plt.figure(figsize=(18,5.5))\n",
        "# plt.xlim([1000,1250])\n",
        "plt.ylabel(\"ppm\")\n",
        "plt.xlabel(\"hrs\")\n",
        "plt.plot(y_train_true, c = \"cyan\", alpha = 0.90, linewidth = 2.5)\n",
        "plt.plot(trainPredict3, c = \"darkblue\", alpha = 0.75)\n",
        "plt.title(\"Training data\")\n",
        "plt.show()\n",
        "\n",
        "# darkblue"
      ]
    },
    {
      "cell_type": "code",
      "execution_count": null,
      "id": "66e8f78d",
      "metadata": {
        "execution": {
          "iopub.execute_input": "2022-05-10T08:11:59.726949Z",
          "iopub.status.busy": "2022-05-10T08:11:59.726381Z",
          "iopub.status.idle": "2022-05-10T08:11:59.732222Z",
          "shell.execute_reply": "2022-05-10T08:11:59.731514Z"
        },
        "papermill": {
          "duration": 0.52642,
          "end_time": "2022-05-10T08:11:59.735134",
          "exception": false,
          "start_time": "2022-05-10T08:11:59.208714",
          "status": "completed"
        },
        "tags": [],
        "colab": {
          "base_uri": "https://localhost:8080/"
        },
        "id": "66e8f78d",
        "outputId": "7cf613e9-5275-4f3a-b792-7c24fbdd4aa4"
      },
      "outputs": [
        {
          "output_type": "stream",
          "name": "stdout",
          "text": [
            "Training RMSE = 2.585187\n"
          ]
        }
      ],
      "source": [
        "rmse = np.sqrt(mean_squared_error(y_train_true, trainPredict3))\n",
        "print(\"Training RMSE =\"  ,rmse)"
      ]
    },
    {
      "cell_type": "markdown",
      "id": "ff4f1f1a",
      "metadata": {
        "papermill": {
          "duration": 0.516742,
          "end_time": "2022-05-10T08:12:00.787897",
          "exception": false,
          "start_time": "2022-05-10T08:12:00.271155",
          "status": "completed"
        },
        "tags": [],
        "id": "ff4f1f1a"
      },
      "source": [
        "### Testing phase for the model trained on the complete training dataset\n",
        "\n",
        "Test data is converted into supervised data from time-series form, to feed it through the neural network trained model"
      ]
    },
    {
      "cell_type": "code",
      "execution_count": null,
      "id": "98c997c7",
      "metadata": {
        "execution": {
          "iopub.execute_input": "2022-05-10T08:12:01.857279Z",
          "iopub.status.busy": "2022-05-10T08:12:01.856515Z",
          "iopub.status.idle": "2022-05-10T08:12:01.890933Z",
          "shell.execute_reply": "2022-05-10T08:12:01.890118Z"
        },
        "papermill": {
          "duration": 0.594229,
          "end_time": "2022-05-10T08:12:01.892974",
          "exception": false,
          "start_time": "2022-05-10T08:12:01.298745",
          "status": "completed"
        },
        "tags": [],
        "colab": {
          "base_uri": "https://localhost:8080/"
        },
        "id": "98c997c7",
        "outputId": "874b71cf-1b41-44a1-b894-e946296094eb"
      },
      "outputs": [
        {
          "output_type": "execute_result",
          "data": {
            "text/plain": [
              "     dew  temp  press wnd_dir  wnd_spd  snow  rain  pollution\n",
              "0    -16     4   1027      SE     3.58     0     0        128\n",
              "1    -17     5   1027      SE     7.60     0     0         77\n",
              "2    -16     4   1027      SE     9.39     0     0         65\n",
              "3    -16     1   1028      cv     0.89     0     0         79\n",
              "4    -14     0   1028      NE     1.79     0     0         93\n",
              "..   ...   ...    ...     ...      ...   ...   ...        ...\n",
              "341  -23    -2   1034      NW   231.97     0     0          8\n",
              "342  -22    -3   1034      NW   237.78     0     0         10\n",
              "343  -22    -3   1034      NW   242.70     0     0         10\n",
              "344  -22    -4   1034      NW   246.72     0     0          8\n",
              "345  -21    -3   1034      NW   249.85     0     0         12\n",
              "\n",
              "[346 rows x 8 columns]"
            ],
            "text/html": [
              "\n",
              "  <div id=\"df-75849173-2d18-4da2-ac67-0bc2a7325cfc\">\n",
              "    <div class=\"colab-df-container\">\n",
              "      <div>\n",
              "<style scoped>\n",
              "    .dataframe tbody tr th:only-of-type {\n",
              "        vertical-align: middle;\n",
              "    }\n",
              "\n",
              "    .dataframe tbody tr th {\n",
              "        vertical-align: top;\n",
              "    }\n",
              "\n",
              "    .dataframe thead th {\n",
              "        text-align: right;\n",
              "    }\n",
              "</style>\n",
              "<table border=\"1\" class=\"dataframe\">\n",
              "  <thead>\n",
              "    <tr style=\"text-align: right;\">\n",
              "      <th></th>\n",
              "      <th>dew</th>\n",
              "      <th>temp</th>\n",
              "      <th>press</th>\n",
              "      <th>wnd_dir</th>\n",
              "      <th>wnd_spd</th>\n",
              "      <th>snow</th>\n",
              "      <th>rain</th>\n",
              "      <th>pollution</th>\n",
              "    </tr>\n",
              "  </thead>\n",
              "  <tbody>\n",
              "    <tr>\n",
              "      <th>0</th>\n",
              "      <td>-16</td>\n",
              "      <td>4</td>\n",
              "      <td>1027</td>\n",
              "      <td>SE</td>\n",
              "      <td>3.58</td>\n",
              "      <td>0</td>\n",
              "      <td>0</td>\n",
              "      <td>128</td>\n",
              "    </tr>\n",
              "    <tr>\n",
              "      <th>1</th>\n",
              "      <td>-17</td>\n",
              "      <td>5</td>\n",
              "      <td>1027</td>\n",
              "      <td>SE</td>\n",
              "      <td>7.60</td>\n",
              "      <td>0</td>\n",
              "      <td>0</td>\n",
              "      <td>77</td>\n",
              "    </tr>\n",
              "    <tr>\n",
              "      <th>2</th>\n",
              "      <td>-16</td>\n",
              "      <td>4</td>\n",
              "      <td>1027</td>\n",
              "      <td>SE</td>\n",
              "      <td>9.39</td>\n",
              "      <td>0</td>\n",
              "      <td>0</td>\n",
              "      <td>65</td>\n",
              "    </tr>\n",
              "    <tr>\n",
              "      <th>3</th>\n",
              "      <td>-16</td>\n",
              "      <td>1</td>\n",
              "      <td>1028</td>\n",
              "      <td>cv</td>\n",
              "      <td>0.89</td>\n",
              "      <td>0</td>\n",
              "      <td>0</td>\n",
              "      <td>79</td>\n",
              "    </tr>\n",
              "    <tr>\n",
              "      <th>4</th>\n",
              "      <td>-14</td>\n",
              "      <td>0</td>\n",
              "      <td>1028</td>\n",
              "      <td>NE</td>\n",
              "      <td>1.79</td>\n",
              "      <td>0</td>\n",
              "      <td>0</td>\n",
              "      <td>93</td>\n",
              "    </tr>\n",
              "    <tr>\n",
              "      <th>...</th>\n",
              "      <td>...</td>\n",
              "      <td>...</td>\n",
              "      <td>...</td>\n",
              "      <td>...</td>\n",
              "      <td>...</td>\n",
              "      <td>...</td>\n",
              "      <td>...</td>\n",
              "      <td>...</td>\n",
              "    </tr>\n",
              "    <tr>\n",
              "      <th>341</th>\n",
              "      <td>-23</td>\n",
              "      <td>-2</td>\n",
              "      <td>1034</td>\n",
              "      <td>NW</td>\n",
              "      <td>231.97</td>\n",
              "      <td>0</td>\n",
              "      <td>0</td>\n",
              "      <td>8</td>\n",
              "    </tr>\n",
              "    <tr>\n",
              "      <th>342</th>\n",
              "      <td>-22</td>\n",
              "      <td>-3</td>\n",
              "      <td>1034</td>\n",
              "      <td>NW</td>\n",
              "      <td>237.78</td>\n",
              "      <td>0</td>\n",
              "      <td>0</td>\n",
              "      <td>10</td>\n",
              "    </tr>\n",
              "    <tr>\n",
              "      <th>343</th>\n",
              "      <td>-22</td>\n",
              "      <td>-3</td>\n",
              "      <td>1034</td>\n",
              "      <td>NW</td>\n",
              "      <td>242.70</td>\n",
              "      <td>0</td>\n",
              "      <td>0</td>\n",
              "      <td>10</td>\n",
              "    </tr>\n",
              "    <tr>\n",
              "      <th>344</th>\n",
              "      <td>-22</td>\n",
              "      <td>-4</td>\n",
              "      <td>1034</td>\n",
              "      <td>NW</td>\n",
              "      <td>246.72</td>\n",
              "      <td>0</td>\n",
              "      <td>0</td>\n",
              "      <td>8</td>\n",
              "    </tr>\n",
              "    <tr>\n",
              "      <th>345</th>\n",
              "      <td>-21</td>\n",
              "      <td>-3</td>\n",
              "      <td>1034</td>\n",
              "      <td>NW</td>\n",
              "      <td>249.85</td>\n",
              "      <td>0</td>\n",
              "      <td>0</td>\n",
              "      <td>12</td>\n",
              "    </tr>\n",
              "  </tbody>\n",
              "</table>\n",
              "<p>346 rows × 8 columns</p>\n",
              "</div>\n",
              "      <button class=\"colab-df-convert\" onclick=\"convertToInteractive('df-75849173-2d18-4da2-ac67-0bc2a7325cfc')\"\n",
              "              title=\"Convert this dataframe to an interactive table.\"\n",
              "              style=\"display:none;\">\n",
              "        \n",
              "  <svg xmlns=\"http://www.w3.org/2000/svg\" height=\"24px\"viewBox=\"0 0 24 24\"\n",
              "       width=\"24px\">\n",
              "    <path d=\"M0 0h24v24H0V0z\" fill=\"none\"/>\n",
              "    <path d=\"M18.56 5.44l.94 2.06.94-2.06 2.06-.94-2.06-.94-.94-2.06-.94 2.06-2.06.94zm-11 1L8.5 8.5l.94-2.06 2.06-.94-2.06-.94L8.5 2.5l-.94 2.06-2.06.94zm10 10l.94 2.06.94-2.06 2.06-.94-2.06-.94-.94-2.06-.94 2.06-2.06.94z\"/><path d=\"M17.41 7.96l-1.37-1.37c-.4-.4-.92-.59-1.43-.59-.52 0-1.04.2-1.43.59L10.3 9.45l-7.72 7.72c-.78.78-.78 2.05 0 2.83L4 21.41c.39.39.9.59 1.41.59.51 0 1.02-.2 1.41-.59l7.78-7.78 2.81-2.81c.8-.78.8-2.07 0-2.86zM5.41 20L4 18.59l7.72-7.72 1.47 1.35L5.41 20z\"/>\n",
              "  </svg>\n",
              "      </button>\n",
              "      \n",
              "  <style>\n",
              "    .colab-df-container {\n",
              "      display:flex;\n",
              "      flex-wrap:wrap;\n",
              "      gap: 12px;\n",
              "    }\n",
              "\n",
              "    .colab-df-convert {\n",
              "      background-color: #E8F0FE;\n",
              "      border: none;\n",
              "      border-radius: 50%;\n",
              "      cursor: pointer;\n",
              "      display: none;\n",
              "      fill: #1967D2;\n",
              "      height: 32px;\n",
              "      padding: 0 0 0 0;\n",
              "      width: 32px;\n",
              "    }\n",
              "\n",
              "    .colab-df-convert:hover {\n",
              "      background-color: #E2EBFA;\n",
              "      box-shadow: 0px 1px 2px rgba(60, 64, 67, 0.3), 0px 1px 3px 1px rgba(60, 64, 67, 0.15);\n",
              "      fill: #174EA6;\n",
              "    }\n",
              "\n",
              "    [theme=dark] .colab-df-convert {\n",
              "      background-color: #3B4455;\n",
              "      fill: #D2E3FC;\n",
              "    }\n",
              "\n",
              "    [theme=dark] .colab-df-convert:hover {\n",
              "      background-color: #434B5C;\n",
              "      box-shadow: 0px 1px 3px 1px rgba(0, 0, 0, 0.15);\n",
              "      filter: drop-shadow(0px 1px 2px rgba(0, 0, 0, 0.3));\n",
              "      fill: #FFFFFF;\n",
              "    }\n",
              "  </style>\n",
              "\n",
              "      <script>\n",
              "        const buttonEl =\n",
              "          document.querySelector('#df-75849173-2d18-4da2-ac67-0bc2a7325cfc button.colab-df-convert');\n",
              "        buttonEl.style.display =\n",
              "          google.colab.kernel.accessAllowed ? 'block' : 'none';\n",
              "\n",
              "        async function convertToInteractive(key) {\n",
              "          const element = document.querySelector('#df-75849173-2d18-4da2-ac67-0bc2a7325cfc');\n",
              "          const dataTable =\n",
              "            await google.colab.kernel.invokeFunction('convertToInteractive',\n",
              "                                                     [key], {});\n",
              "          if (!dataTable) return;\n",
              "\n",
              "          const docLinkHtml = 'Like what you see? Visit the ' +\n",
              "            '<a target=\"_blank\" href=https://colab.research.google.com/notebooks/data_table.ipynb>data table notebook</a>'\n",
              "            + ' to learn more about interactive tables.';\n",
              "          element.innerHTML = '';\n",
              "          dataTable['output_type'] = 'display_data';\n",
              "          await google.colab.output.renderOutput(dataTable, element);\n",
              "          const docLink = document.createElement('div');\n",
              "          docLink.innerHTML = docLinkHtml;\n",
              "          element.appendChild(docLink);\n",
              "        }\n",
              "      </script>\n",
              "    </div>\n",
              "  </div>\n",
              "  "
            ]
          },
          "metadata": {},
          "execution_count": 53
        }
      ],
      "source": [
        "test_df = pd.read_csv(\"pollution_test_data1.csv\")\n",
        "test_df"
      ]
    },
    {
      "cell_type": "code",
      "execution_count": null,
      "id": "8951cc23",
      "metadata": {
        "execution": {
          "iopub.execute_input": "2022-05-10T08:12:02.971140Z",
          "iopub.status.busy": "2022-05-10T08:12:02.970877Z",
          "iopub.status.idle": "2022-05-10T08:12:02.976907Z",
          "shell.execute_reply": "2022-05-10T08:12:02.976228Z"
        },
        "papermill": {
          "duration": 0.562495,
          "end_time": "2022-05-10T08:12:02.978816",
          "exception": false,
          "start_time": "2022-05-10T08:12:02.416321",
          "status": "completed"
        },
        "tags": [],
        "id": "8951cc23"
      },
      "outputs": [],
      "source": [
        "test_df[\"wind_dir\"] = test_df[\"wnd_dir\"].apply(func)\n",
        "del test_df[\"wnd_dir\"]"
      ]
    },
    {
      "cell_type": "code",
      "execution_count": null,
      "id": "7ad2b33a",
      "metadata": {
        "execution": {
          "iopub.execute_input": "2022-05-10T08:12:04.262381Z",
          "iopub.status.busy": "2022-05-10T08:12:04.262129Z",
          "iopub.status.idle": "2022-05-10T08:12:04.266762Z",
          "shell.execute_reply": "2022-05-10T08:12:04.266073Z"
        },
        "papermill": {
          "duration": 0.658917,
          "end_time": "2022-05-10T08:12:04.268369",
          "exception": false,
          "start_time": "2022-05-10T08:12:03.609452",
          "status": "completed"
        },
        "tags": [],
        "id": "7ad2b33a"
      },
      "outputs": [],
      "source": [
        "values_test = test_df.values\n",
        "values_test = values_test.astype('float32')"
      ]
    },
    {
      "cell_type": "code",
      "execution_count": null,
      "id": "402f8fe3",
      "metadata": {
        "execution": {
          "iopub.execute_input": "2022-05-10T08:12:05.312482Z",
          "iopub.status.busy": "2022-05-10T08:12:05.312216Z",
          "iopub.status.idle": "2022-05-10T08:12:05.319860Z",
          "shell.execute_reply": "2022-05-10T08:12:05.319174Z"
        },
        "papermill": {
          "duration": 0.524675,
          "end_time": "2022-05-10T08:12:05.322082",
          "exception": false,
          "start_time": "2022-05-10T08:12:04.797407",
          "status": "completed"
        },
        "tags": [],
        "id": "402f8fe3"
      },
      "outputs": [],
      "source": [
        "scaler1 = MinMaxScaler()\n",
        "scaled_test = scaler1.fit_transform(values_test)\n",
        "reframed_test = series_to_supervised(scaled_test, 1, 1)"
      ]
    },
    {
      "cell_type": "code",
      "execution_count": null,
      "id": "61ee3327",
      "metadata": {
        "execution": {
          "iopub.execute_input": "2022-05-10T08:12:06.408414Z",
          "iopub.status.busy": "2022-05-10T08:12:06.404646Z",
          "iopub.status.idle": "2022-05-10T08:12:06.446137Z",
          "shell.execute_reply": "2022-05-10T08:12:06.445435Z"
        },
        "papermill": {
          "duration": 0.58874,
          "end_time": "2022-05-10T08:12:06.447861",
          "exception": false,
          "start_time": "2022-05-10T08:12:05.859121",
          "status": "completed"
        },
        "tags": [],
        "colab": {
          "base_uri": "https://localhost:8080/",
          "height": 505
        },
        "id": "61ee3327",
        "outputId": "06fead25-39c7-48c7-9303-b9768fd3abc7"
      },
      "outputs": [
        {
          "output_type": "execute_result",
          "data": {
            "text/plain": [
              "     var1(t-1)  var2(t-1)  var3(t-1)  var4(t-1)  var5(t-1)  var6(t-1)  \\\n",
              "1     0.523809       0.65   0.666668   0.007102        0.0        0.0   \n",
              "2     0.476190       0.70   0.666668   0.016223        0.0        0.0   \n",
              "3     0.523809       0.65   0.666668   0.020285        0.0        0.0   \n",
              "4     0.523809       0.50   0.708336   0.000998        0.0        0.0   \n",
              "5     0.619048       0.45   0.708336   0.003040        0.0        0.0   \n",
              "..         ...        ...        ...        ...        ...        ...   \n",
              "341   0.238095       0.35   0.916668   0.512128        0.0        0.0   \n",
              "342   0.190476       0.35   0.958336   0.525310        0.0        0.0   \n",
              "343   0.238095       0.30   0.958336   0.538493        0.0        0.0   \n",
              "344   0.238095       0.30   0.958336   0.549656        0.0        0.0   \n",
              "345   0.238095       0.25   0.958336   0.558778        0.0        0.0   \n",
              "\n",
              "     var7(t-1)  var8(t-1)   var1(t)  var2(t)   var3(t)   var4(t)  var5(t)  \\\n",
              "1     0.288288   0.000000  0.476190     0.70  0.666668  0.016223      0.0   \n",
              "2     0.173423   0.000000  0.523809     0.65  0.666668  0.020285      0.0   \n",
              "3     0.146396   0.000000  0.523809     0.50  0.708336  0.000998      0.0   \n",
              "4     0.177928   1.000000  0.619048     0.45  0.708336  0.003040      0.0   \n",
              "5     0.209459   0.333333  0.571429     0.35  0.750000  0.007102      0.0   \n",
              "..         ...        ...       ...      ...       ...       ...      ...   \n",
              "341   0.022523   0.666667  0.190476     0.35  0.958336  0.525310      0.0   \n",
              "342   0.018018   0.666667  0.238095     0.30  0.958336  0.538493      0.0   \n",
              "343   0.022523   0.666667  0.238095     0.30  0.958336  0.549656      0.0   \n",
              "344   0.022523   0.666667  0.238095     0.25  0.958336  0.558778      0.0   \n",
              "345   0.018018   0.666667  0.285714     0.30  0.958336  0.565879      0.0   \n",
              "\n",
              "     var6(t)   var7(t)   var8(t)  \n",
              "1        0.0  0.173423  0.000000  \n",
              "2        0.0  0.146396  0.000000  \n",
              "3        0.0  0.177928  1.000000  \n",
              "4        0.0  0.209459  0.333333  \n",
              "5        0.0  0.234234  0.333333  \n",
              "..       ...       ...       ...  \n",
              "341      0.0  0.018018  0.666667  \n",
              "342      0.0  0.022523  0.666667  \n",
              "343      0.0  0.022523  0.666667  \n",
              "344      0.0  0.018018  0.666667  \n",
              "345      0.0  0.027027  0.666667  \n",
              "\n",
              "[345 rows x 16 columns]"
            ],
            "text/html": [
              "\n",
              "  <div id=\"df-1bf14d07-1778-4fed-a7b4-c1713eedcf90\">\n",
              "    <div class=\"colab-df-container\">\n",
              "      <div>\n",
              "<style scoped>\n",
              "    .dataframe tbody tr th:only-of-type {\n",
              "        vertical-align: middle;\n",
              "    }\n",
              "\n",
              "    .dataframe tbody tr th {\n",
              "        vertical-align: top;\n",
              "    }\n",
              "\n",
              "    .dataframe thead th {\n",
              "        text-align: right;\n",
              "    }\n",
              "</style>\n",
              "<table border=\"1\" class=\"dataframe\">\n",
              "  <thead>\n",
              "    <tr style=\"text-align: right;\">\n",
              "      <th></th>\n",
              "      <th>var1(t-1)</th>\n",
              "      <th>var2(t-1)</th>\n",
              "      <th>var3(t-1)</th>\n",
              "      <th>var4(t-1)</th>\n",
              "      <th>var5(t-1)</th>\n",
              "      <th>var6(t-1)</th>\n",
              "      <th>var7(t-1)</th>\n",
              "      <th>var8(t-1)</th>\n",
              "      <th>var1(t)</th>\n",
              "      <th>var2(t)</th>\n",
              "      <th>var3(t)</th>\n",
              "      <th>var4(t)</th>\n",
              "      <th>var5(t)</th>\n",
              "      <th>var6(t)</th>\n",
              "      <th>var7(t)</th>\n",
              "      <th>var8(t)</th>\n",
              "    </tr>\n",
              "  </thead>\n",
              "  <tbody>\n",
              "    <tr>\n",
              "      <th>1</th>\n",
              "      <td>0.523809</td>\n",
              "      <td>0.65</td>\n",
              "      <td>0.666668</td>\n",
              "      <td>0.007102</td>\n",
              "      <td>0.0</td>\n",
              "      <td>0.0</td>\n",
              "      <td>0.288288</td>\n",
              "      <td>0.000000</td>\n",
              "      <td>0.476190</td>\n",
              "      <td>0.70</td>\n",
              "      <td>0.666668</td>\n",
              "      <td>0.016223</td>\n",
              "      <td>0.0</td>\n",
              "      <td>0.0</td>\n",
              "      <td>0.173423</td>\n",
              "      <td>0.000000</td>\n",
              "    </tr>\n",
              "    <tr>\n",
              "      <th>2</th>\n",
              "      <td>0.476190</td>\n",
              "      <td>0.70</td>\n",
              "      <td>0.666668</td>\n",
              "      <td>0.016223</td>\n",
              "      <td>0.0</td>\n",
              "      <td>0.0</td>\n",
              "      <td>0.173423</td>\n",
              "      <td>0.000000</td>\n",
              "      <td>0.523809</td>\n",
              "      <td>0.65</td>\n",
              "      <td>0.666668</td>\n",
              "      <td>0.020285</td>\n",
              "      <td>0.0</td>\n",
              "      <td>0.0</td>\n",
              "      <td>0.146396</td>\n",
              "      <td>0.000000</td>\n",
              "    </tr>\n",
              "    <tr>\n",
              "      <th>3</th>\n",
              "      <td>0.523809</td>\n",
              "      <td>0.65</td>\n",
              "      <td>0.666668</td>\n",
              "      <td>0.020285</td>\n",
              "      <td>0.0</td>\n",
              "      <td>0.0</td>\n",
              "      <td>0.146396</td>\n",
              "      <td>0.000000</td>\n",
              "      <td>0.523809</td>\n",
              "      <td>0.50</td>\n",
              "      <td>0.708336</td>\n",
              "      <td>0.000998</td>\n",
              "      <td>0.0</td>\n",
              "      <td>0.0</td>\n",
              "      <td>0.177928</td>\n",
              "      <td>1.000000</td>\n",
              "    </tr>\n",
              "    <tr>\n",
              "      <th>4</th>\n",
              "      <td>0.523809</td>\n",
              "      <td>0.50</td>\n",
              "      <td>0.708336</td>\n",
              "      <td>0.000998</td>\n",
              "      <td>0.0</td>\n",
              "      <td>0.0</td>\n",
              "      <td>0.177928</td>\n",
              "      <td>1.000000</td>\n",
              "      <td>0.619048</td>\n",
              "      <td>0.45</td>\n",
              "      <td>0.708336</td>\n",
              "      <td>0.003040</td>\n",
              "      <td>0.0</td>\n",
              "      <td>0.0</td>\n",
              "      <td>0.209459</td>\n",
              "      <td>0.333333</td>\n",
              "    </tr>\n",
              "    <tr>\n",
              "      <th>5</th>\n",
              "      <td>0.619048</td>\n",
              "      <td>0.45</td>\n",
              "      <td>0.708336</td>\n",
              "      <td>0.003040</td>\n",
              "      <td>0.0</td>\n",
              "      <td>0.0</td>\n",
              "      <td>0.209459</td>\n",
              "      <td>0.333333</td>\n",
              "      <td>0.571429</td>\n",
              "      <td>0.35</td>\n",
              "      <td>0.750000</td>\n",
              "      <td>0.007102</td>\n",
              "      <td>0.0</td>\n",
              "      <td>0.0</td>\n",
              "      <td>0.234234</td>\n",
              "      <td>0.333333</td>\n",
              "    </tr>\n",
              "    <tr>\n",
              "      <th>...</th>\n",
              "      <td>...</td>\n",
              "      <td>...</td>\n",
              "      <td>...</td>\n",
              "      <td>...</td>\n",
              "      <td>...</td>\n",
              "      <td>...</td>\n",
              "      <td>...</td>\n",
              "      <td>...</td>\n",
              "      <td>...</td>\n",
              "      <td>...</td>\n",
              "      <td>...</td>\n",
              "      <td>...</td>\n",
              "      <td>...</td>\n",
              "      <td>...</td>\n",
              "      <td>...</td>\n",
              "      <td>...</td>\n",
              "    </tr>\n",
              "    <tr>\n",
              "      <th>341</th>\n",
              "      <td>0.238095</td>\n",
              "      <td>0.35</td>\n",
              "      <td>0.916668</td>\n",
              "      <td>0.512128</td>\n",
              "      <td>0.0</td>\n",
              "      <td>0.0</td>\n",
              "      <td>0.022523</td>\n",
              "      <td>0.666667</td>\n",
              "      <td>0.190476</td>\n",
              "      <td>0.35</td>\n",
              "      <td>0.958336</td>\n",
              "      <td>0.525310</td>\n",
              "      <td>0.0</td>\n",
              "      <td>0.0</td>\n",
              "      <td>0.018018</td>\n",
              "      <td>0.666667</td>\n",
              "    </tr>\n",
              "    <tr>\n",
              "      <th>342</th>\n",
              "      <td>0.190476</td>\n",
              "      <td>0.35</td>\n",
              "      <td>0.958336</td>\n",
              "      <td>0.525310</td>\n",
              "      <td>0.0</td>\n",
              "      <td>0.0</td>\n",
              "      <td>0.018018</td>\n",
              "      <td>0.666667</td>\n",
              "      <td>0.238095</td>\n",
              "      <td>0.30</td>\n",
              "      <td>0.958336</td>\n",
              "      <td>0.538493</td>\n",
              "      <td>0.0</td>\n",
              "      <td>0.0</td>\n",
              "      <td>0.022523</td>\n",
              "      <td>0.666667</td>\n",
              "    </tr>\n",
              "    <tr>\n",
              "      <th>343</th>\n",
              "      <td>0.238095</td>\n",
              "      <td>0.30</td>\n",
              "      <td>0.958336</td>\n",
              "      <td>0.538493</td>\n",
              "      <td>0.0</td>\n",
              "      <td>0.0</td>\n",
              "      <td>0.022523</td>\n",
              "      <td>0.666667</td>\n",
              "      <td>0.238095</td>\n",
              "      <td>0.30</td>\n",
              "      <td>0.958336</td>\n",
              "      <td>0.549656</td>\n",
              "      <td>0.0</td>\n",
              "      <td>0.0</td>\n",
              "      <td>0.022523</td>\n",
              "      <td>0.666667</td>\n",
              "    </tr>\n",
              "    <tr>\n",
              "      <th>344</th>\n",
              "      <td>0.238095</td>\n",
              "      <td>0.30</td>\n",
              "      <td>0.958336</td>\n",
              "      <td>0.549656</td>\n",
              "      <td>0.0</td>\n",
              "      <td>0.0</td>\n",
              "      <td>0.022523</td>\n",
              "      <td>0.666667</td>\n",
              "      <td>0.238095</td>\n",
              "      <td>0.25</td>\n",
              "      <td>0.958336</td>\n",
              "      <td>0.558778</td>\n",
              "      <td>0.0</td>\n",
              "      <td>0.0</td>\n",
              "      <td>0.018018</td>\n",
              "      <td>0.666667</td>\n",
              "    </tr>\n",
              "    <tr>\n",
              "      <th>345</th>\n",
              "      <td>0.238095</td>\n",
              "      <td>0.25</td>\n",
              "      <td>0.958336</td>\n",
              "      <td>0.558778</td>\n",
              "      <td>0.0</td>\n",
              "      <td>0.0</td>\n",
              "      <td>0.018018</td>\n",
              "      <td>0.666667</td>\n",
              "      <td>0.285714</td>\n",
              "      <td>0.30</td>\n",
              "      <td>0.958336</td>\n",
              "      <td>0.565879</td>\n",
              "      <td>0.0</td>\n",
              "      <td>0.0</td>\n",
              "      <td>0.027027</td>\n",
              "      <td>0.666667</td>\n",
              "    </tr>\n",
              "  </tbody>\n",
              "</table>\n",
              "<p>345 rows × 16 columns</p>\n",
              "</div>\n",
              "      <button class=\"colab-df-convert\" onclick=\"convertToInteractive('df-1bf14d07-1778-4fed-a7b4-c1713eedcf90')\"\n",
              "              title=\"Convert this dataframe to an interactive table.\"\n",
              "              style=\"display:none;\">\n",
              "        \n",
              "  <svg xmlns=\"http://www.w3.org/2000/svg\" height=\"24px\"viewBox=\"0 0 24 24\"\n",
              "       width=\"24px\">\n",
              "    <path d=\"M0 0h24v24H0V0z\" fill=\"none\"/>\n",
              "    <path d=\"M18.56 5.44l.94 2.06.94-2.06 2.06-.94-2.06-.94-.94-2.06-.94 2.06-2.06.94zm-11 1L8.5 8.5l.94-2.06 2.06-.94-2.06-.94L8.5 2.5l-.94 2.06-2.06.94zm10 10l.94 2.06.94-2.06 2.06-.94-2.06-.94-.94-2.06-.94 2.06-2.06.94z\"/><path d=\"M17.41 7.96l-1.37-1.37c-.4-.4-.92-.59-1.43-.59-.52 0-1.04.2-1.43.59L10.3 9.45l-7.72 7.72c-.78.78-.78 2.05 0 2.83L4 21.41c.39.39.9.59 1.41.59.51 0 1.02-.2 1.41-.59l7.78-7.78 2.81-2.81c.8-.78.8-2.07 0-2.86zM5.41 20L4 18.59l7.72-7.72 1.47 1.35L5.41 20z\"/>\n",
              "  </svg>\n",
              "      </button>\n",
              "      \n",
              "  <style>\n",
              "    .colab-df-container {\n",
              "      display:flex;\n",
              "      flex-wrap:wrap;\n",
              "      gap: 12px;\n",
              "    }\n",
              "\n",
              "    .colab-df-convert {\n",
              "      background-color: #E8F0FE;\n",
              "      border: none;\n",
              "      border-radius: 50%;\n",
              "      cursor: pointer;\n",
              "      display: none;\n",
              "      fill: #1967D2;\n",
              "      height: 32px;\n",
              "      padding: 0 0 0 0;\n",
              "      width: 32px;\n",
              "    }\n",
              "\n",
              "    .colab-df-convert:hover {\n",
              "      background-color: #E2EBFA;\n",
              "      box-shadow: 0px 1px 2px rgba(60, 64, 67, 0.3), 0px 1px 3px 1px rgba(60, 64, 67, 0.15);\n",
              "      fill: #174EA6;\n",
              "    }\n",
              "\n",
              "    [theme=dark] .colab-df-convert {\n",
              "      background-color: #3B4455;\n",
              "      fill: #D2E3FC;\n",
              "    }\n",
              "\n",
              "    [theme=dark] .colab-df-convert:hover {\n",
              "      background-color: #434B5C;\n",
              "      box-shadow: 0px 1px 3px 1px rgba(0, 0, 0, 0.15);\n",
              "      filter: drop-shadow(0px 1px 2px rgba(0, 0, 0, 0.3));\n",
              "      fill: #FFFFFF;\n",
              "    }\n",
              "  </style>\n",
              "\n",
              "      <script>\n",
              "        const buttonEl =\n",
              "          document.querySelector('#df-1bf14d07-1778-4fed-a7b4-c1713eedcf90 button.colab-df-convert');\n",
              "        buttonEl.style.display =\n",
              "          google.colab.kernel.accessAllowed ? 'block' : 'none';\n",
              "\n",
              "        async function convertToInteractive(key) {\n",
              "          const element = document.querySelector('#df-1bf14d07-1778-4fed-a7b4-c1713eedcf90');\n",
              "          const dataTable =\n",
              "            await google.colab.kernel.invokeFunction('convertToInteractive',\n",
              "                                                     [key], {});\n",
              "          if (!dataTable) return;\n",
              "\n",
              "          const docLinkHtml = 'Like what you see? Visit the ' +\n",
              "            '<a target=\"_blank\" href=https://colab.research.google.com/notebooks/data_table.ipynb>data table notebook</a>'\n",
              "            + ' to learn more about interactive tables.';\n",
              "          element.innerHTML = '';\n",
              "          dataTable['output_type'] = 'display_data';\n",
              "          await google.colab.output.renderOutput(dataTable, element);\n",
              "          const docLink = document.createElement('div');\n",
              "          docLink.innerHTML = docLinkHtml;\n",
              "          element.appendChild(docLink);\n",
              "        }\n",
              "      </script>\n",
              "    </div>\n",
              "  </div>\n",
              "  "
            ]
          },
          "metadata": {},
          "execution_count": 57
        }
      ],
      "source": [
        "reframed_test"
      ]
    },
    {
      "cell_type": "code",
      "execution_count": null,
      "id": "520c1d73",
      "metadata": {
        "execution": {
          "iopub.execute_input": "2022-05-10T08:12:07.503414Z",
          "iopub.status.busy": "2022-05-10T08:12:07.503152Z",
          "iopub.status.idle": "2022-05-10T08:12:07.513175Z",
          "shell.execute_reply": "2022-05-10T08:12:07.512368Z"
        },
        "papermill": {
          "duration": 0.526403,
          "end_time": "2022-05-10T08:12:07.516842",
          "exception": false,
          "start_time": "2022-05-10T08:12:06.990439",
          "status": "completed"
        },
        "tags": [],
        "colab": {
          "base_uri": "https://localhost:8080/"
        },
        "id": "520c1d73",
        "outputId": "43cb53ad-410f-4bc0-aa23-a3fdf8cec453"
      },
      "outputs": [
        {
          "output_type": "stream",
          "name": "stdout",
          "text": [
            "   var1(t-1)  var2(t-1)  var3(t-1)  var4(t-1)  var5(t-1)  var6(t-1)  \\\n",
            "1   0.523809       0.65   0.666668   0.007102        0.0        0.0   \n",
            "2   0.476190       0.70   0.666668   0.016223        0.0        0.0   \n",
            "3   0.523809       0.65   0.666668   0.020285        0.0        0.0   \n",
            "4   0.523809       0.50   0.708336   0.000998        0.0        0.0   \n",
            "5   0.619048       0.45   0.708336   0.003040        0.0        0.0   \n",
            "\n",
            "   var7(t-1)  var8(t-1)   var1(t)  \n",
            "1   0.288288   0.000000  0.476190  \n",
            "2   0.173423   0.000000  0.523809  \n",
            "3   0.146396   0.000000  0.523809  \n",
            "4   0.177928   1.000000  0.619048  \n",
            "5   0.209459   0.333333  0.571429  \n"
          ]
        }
      ],
      "source": [
        "reframed_test.drop(reframed_test.columns[[9,10,11,12,13,14,15]], axis=1, inplace=True)\n",
        "print(reframed_test.head())"
      ]
    },
    {
      "cell_type": "code",
      "execution_count": null,
      "id": "96377643",
      "metadata": {
        "execution": {
          "iopub.execute_input": "2022-05-10T08:12:08.587093Z",
          "iopub.status.busy": "2022-05-10T08:12:08.586806Z",
          "iopub.status.idle": "2022-05-10T08:12:08.591876Z",
          "shell.execute_reply": "2022-05-10T08:12:08.591098Z"
        },
        "papermill": {
          "duration": 0.561399,
          "end_time": "2022-05-10T08:12:08.593705",
          "exception": false,
          "start_time": "2022-05-10T08:12:08.032306",
          "status": "completed"
        },
        "tags": [],
        "id": "96377643"
      },
      "outputs": [],
      "source": [
        "values_test1 = reframed_test.values\n",
        "\n",
        "test_x, test_y = values_test1[:, :-1], values_test1[:, -1]\n",
        "\n",
        "test_x = test_x.reshape((test_x.shape[0], 1, test_x.shape[1]))"
      ]
    },
    {
      "cell_type": "code",
      "execution_count": null,
      "id": "0cc9527b",
      "metadata": {
        "execution": {
          "iopub.execute_input": "2022-05-10T08:12:09.639751Z",
          "iopub.status.busy": "2022-05-10T08:12:09.639466Z",
          "iopub.status.idle": "2022-05-10T08:12:09.644893Z",
          "shell.execute_reply": "2022-05-10T08:12:09.644207Z"
        },
        "papermill": {
          "duration": 0.521271,
          "end_time": "2022-05-10T08:12:09.647212",
          "exception": false,
          "start_time": "2022-05-10T08:12:09.125941",
          "status": "completed"
        },
        "tags": [],
        "colab": {
          "base_uri": "https://localhost:8080/"
        },
        "id": "0cc9527b",
        "outputId": "31607d7a-99c1-44be-edbf-a2843b659a03"
      },
      "outputs": [
        {
          "output_type": "execute_result",
          "data": {
            "text/plain": [
              "((345, 1, 8), (345,))"
            ]
          },
          "metadata": {},
          "execution_count": 60
        }
      ],
      "source": [
        "test_x.shape, test_y.shape"
      ]
    },
    {
      "cell_type": "code",
      "execution_count": null,
      "id": "fc820dc3",
      "metadata": {
        "execution": {
          "iopub.execute_input": "2022-05-10T08:12:10.748279Z",
          "iopub.status.busy": "2022-05-10T08:12:10.747963Z",
          "iopub.status.idle": "2022-05-10T08:12:10.809420Z",
          "shell.execute_reply": "2022-05-10T08:12:10.808386Z"
        },
        "papermill": {
          "duration": 0.646939,
          "end_time": "2022-05-10T08:12:10.812340",
          "exception": false,
          "start_time": "2022-05-10T08:12:10.165401",
          "status": "completed"
        },
        "tags": [],
        "colab": {
          "base_uri": "https://localhost:8080/"
        },
        "id": "fc820dc3",
        "outputId": "fd7c84b6-6e13-489b-eaef-32432c01fad4"
      },
      "outputs": [
        {
          "output_type": "stream",
          "name": "stdout",
          "text": [
            "94.01351598173515 92.25122315439845\n"
          ]
        }
      ],
      "source": [
        "testPredict3 = model3.predict(test_x)\n",
        "testPredict3 = testPredict3.ravel()\n",
        "poll = np.array(df[\"pollution\"])\n",
        "meanop = poll.mean()\n",
        "stdop = poll.std()\n",
        "\n",
        "print(meanop, stdop)\n",
        "\n",
        "# Inverse scaling the output, for better visual interpretation \n",
        "test_y = test_y*stdop + meanop\n",
        "testPredict3 = testPredict3*stdop + meanop"
      ]
    },
    {
      "cell_type": "code",
      "execution_count": null,
      "id": "d5595e3d",
      "metadata": {
        "execution": {
          "iopub.execute_input": "2022-05-10T08:12:11.979967Z",
          "iopub.status.busy": "2022-05-10T08:12:11.979680Z",
          "iopub.status.idle": "2022-05-10T08:12:12.194643Z",
          "shell.execute_reply": "2022-05-10T08:12:12.193828Z"
        },
        "papermill": {
          "duration": 0.803611,
          "end_time": "2022-05-10T08:12:12.196804",
          "exception": false,
          "start_time": "2022-05-10T08:12:11.393193",
          "status": "completed"
        },
        "tags": [],
        "colab": {
          "base_uri": "https://localhost:8080/"
        },
        "id": "d5595e3d",
        "outputId": "bb785417-aa0b-44ee-9d7c-015194434bd7"
      },
      "outputs": [
        {
          "output_type": "display_data",
          "data": {
            "text/plain": [
              "<Figure size 1296x396 with 1 Axes>"
            ],
            "image/png": "[encoded data removed]"
          },
          "metadata": {
            "needs_background": "light"
          }
        }
      ],
      "source": [
        "from matplotlib import pyplot as plt\n",
        "\n",
        "plt.figure(figsize=(18,5.5))\n",
        "plt.ylabel(\"ppm\")\n",
        "plt.xlabel(\"hrs\")\n",
        "plt.plot(test_y, c = \"orange\", alpha = 0.90, linewidth = 2.5)\n",
        "plt.plot(testPredict3, c = \"darkblue\", alpha = 0.75)\n",
        "plt.title(\"Testing data\")\n",
        "plt.show()\n"
      ]
    },
    {
      "cell_type": "code",
      "execution_count": null,
      "id": "0608788a",
      "metadata": {
        "execution": {
          "iopub.execute_input": "2022-05-10T08:12:14.686514Z",
          "iopub.status.busy": "2022-05-10T08:12:14.686033Z",
          "iopub.status.idle": "2022-05-10T08:12:14.693387Z",
          "shell.execute_reply": "2022-05-10T08:12:14.692495Z"
        },
        "papermill": {
          "duration": 0.733086,
          "end_time": "2022-05-10T08:12:14.696346",
          "exception": false,
          "start_time": "2022-05-10T08:12:13.963260",
          "status": "completed"
        },
        "tags": [],
        "colab": {
          "base_uri": "https://localhost:8080/"
        },
        "id": "0608788a",
        "outputId": "190249aa-6a68-4768-8528-4acfd0d245bb"
      },
      "outputs": [
        {
          "output_type": "stream",
          "name": "stdout",
          "text": [
            "Test RMSE = 12.4918995\n"
          ]
        }
      ],
      "source": [
        "rmse = np.sqrt(mean_squared_error(test_y, testPredict3))\n",
        "print(\"Test RMSE =\"  ,rmse)"
      ]
    }
  ],
  "metadata": {
    "kernelspec": {
      "display_name": "Python 3",
      "language": "python",
      "name": "python3"
    },
    "language_info": {
      "codemirror_mode": {
        "name": "ipython",
        "version": 3
      },
      "file_extension": ".py",
      "mimetype": "text/x-python",
      "name": "python",
      "nbconvert_exporter": "python",
      "pygments_lexer": "ipython3",
      "version": "3.7.12"
    },
    "papermill": {
      "default_parameters": {},
      "duration": 192.206399,
      "end_time": "2022-05-10T08:12:19.545225",
      "environment_variables": {},
      "exception": null,
      "input_path": "__notebook__.ipynb",
      "output_path": "__notebook__.ipynb",
      "parameters": {},
      "start_time": "2022-05-10T08:09:07.338826",
      "version": "2.3.4"
    },
    "colab": {
      "provenance": [],
      "include_colab_link": true
    }
  },
  "nbformat": 4,
  "nbformat_minor": 5
}